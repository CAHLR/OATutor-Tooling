{
 "cells": [
  {
   "cell_type": "code",
   "execution_count": 4,
   "metadata": {},
   "outputs": [],
   "source": [
    "import json\n",
    "import re"
   ]
  },
  {
   "cell_type": "code",
   "execution_count": 5,
   "metadata": {},
   "outputs": [],
   "source": [
    "import sys\n",
    "sys.path.insert(0, \"../textToLatex\")\n",
    "from pytexit import py2tex"
   ]
  },
  {
   "cell_type": "code",
   "execution_count": 6,
   "metadata": {},
   "outputs": [],
   "source": [
    "supported_operators = [\"**\", \"/\", \"*\", \"+\", \">\", \"<\", \"=\"]\n",
    "supported_word_operators = [\"sqrt\", \"abs\", \"inf\"]\n",
    "replace = {\"⋅\" : \"*\", \"−\" : \"-\", \"^\" : \"**\", \"𝑥\" : \"x\", \"𝑎\" : \"a\", \"𝑏\" : \"b\", \"𝑦\" : \"y\", \"–\": \"-\", \"≥\" : \">=\", \"≤\": \"<=\", \"∪\" : \"U\"}\n",
    "conditionally_replace = {\"[\" : \"(\", \"]\" : \")\"}\n",
    "regex = re.compile(\"|\".join(map(re.escape, replace.keys())))\n",
    "\n",
    "#Figure out way to deal with equal signs\n",
    "def preprocess_text_to_latex(text, tutoring=False, stepMC= False):\n",
    "    text = str(text)\n",
    "    text = regex.sub(lambda match: replace[match.group(0)], text)\n",
    "    if not re.findall(\"[\\[|\\(][-\\d\\s\\w]+,[-\\d\\s\\w]+[\\)|\\]]\", text): #Checking to see if there are coordinates/intervals before replacing () with []\n",
    "        text = regex.sub(lambda match: conditionally_replace[match.group(0)], text)\n",
    "    \n",
    "    \n",
    "    #Account for space in sqrt(x, y)\n",
    "    text = re.sub(r\"sqrt[\\s]?\\(([^,]+),[\\s]+([^\\)])\\)\", r\"sqrt(\\g<1>,\\g<2>)\", text)\n",
    "    text = re.sub(r\"sqrt(?:\\s*)?\\(\", r\"sqrt(\", text)\n",
    "    text = re.sub(r\"abs(?:\\s*)?\\(\", r\"abs(\", text)\n",
    "    text = re.sub(\"\\([\\s]*([-\\d]+)[\\s]*,[\\s]*([-\\d]+)[\\s]*\\)\", \"(\\g<1>,\\g<2>)\", text) #To account for coordinates\n",
    "    for operator in supported_operators:\n",
    "        text = re.sub(\"(\\s?){0}(\\s?)\".format(re.escape(operator)), \"{0}\".format(operator), text)\n",
    "        \n",
    "    words = text.split()\n",
    "    latex = False\n",
    "    for i in list(range(len(words))):\n",
    "        word = words[i]\n",
    "        \n",
    "        if any([op in word for op in supported_operators]) or any([op in word for op in supported_word_operators]):\n",
    "            punctuation = re.findall(\"[\\?\\.,:]+}$\", word) #Capture all the punctuation at the end of the sentence\n",
    "            if punctuation:\n",
    "                punctuation = punctuation[0]\n",
    "            else:\n",
    "                punctuation = \"\"\n",
    "            word = re.sub(\"[\\?\\.,:]+}$\", \"\", word)\n",
    "            try:                \n",
    "                sides = re.split('(=|U|<=|>=)', word)\n",
    "                sides = [handle_word(side) for side in sides]\n",
    "                new_word = \"\"\n",
    "                if tutoring and stepMC:\n",
    "                    new_word = \"$$\" + \"\".join(sides) + \"$$\"\n",
    "                    #sides = [\"$$\" + side + \"$$\" for side in sides] \n",
    "                elif tutoring:\n",
    "                    new_word = \"$$\" + \"\".join([side.replace(\"\\\\\", \"\\\\\\\\\") for side in sides]) + \"$$\"\n",
    "                    #sides = [\"$$\" + side.replace(\"\\\\\", \"\\\\\\\\\") + \"$$\" for side in sides]\n",
    "                else:\n",
    "                    new_word = \"<InlineMath math=\\\"\" + \"\".join(sides) + \"\\\"/>\"\n",
    "                    #sides = [\"<InlineMath math=\\\"\" + side + \"\\\"/>\" for side in sides]\n",
    "                #new_word = \"=\".join(sides)\n",
    "                new_word += punctuation\n",
    "                latex=True\n",
    "                words[i] = new_word\n",
    "                \n",
    "            except Exception as e:\n",
    "                print(\"This failed\")\n",
    "                print(word)\n",
    "                print(e)\n",
    "                pass\n",
    "    text = \" \".join(words)\n",
    "    return text, latex\n",
    "\n",
    "def handle_word(word):\n",
    "    latex_dic = {\"=\": \"=\", \"U\": \" \\cup \", \"<=\" : \" \\leq \", \">=\" : \" \\geq \"}\n",
    "    if word in latex_dic:\n",
    "        return latex_dic[word]\n",
    "    \n",
    "    coordinates = re.findall(\"[\\(|\\[][-\\d\\s]+,[-\\d\\s]+[\\)|\\]]\",word)\n",
    "    if coordinates:\n",
    "        word = re.sub(\"inf\", r\"\\\\infty\", word)\n",
    "        return word\n",
    "    \n",
    "    word = re.sub(\"\\+/-\", \"pm(a)\", word)\n",
    "    \n",
    "    original_word = word\n",
    "    scientific_notation = re.findall(\"\\(?([\\d]{2,})\\)?\\*([\\d]{2,})\\*\\*\", word)\n",
    "    word = re.sub(\":sqrt\", \": sqrt\", word)\n",
    "    square_roots = re.findall(r\"sqrt\\(([^,]*)\\,([^\\)]*)\\)\", word)\n",
    "    word = re.sub(\",\", \"\", word)\n",
    "    for root in square_roots:\n",
    "        word = re.sub(r\"sqrt\\(\"+root[0]+root[1]+\"\\)\", r\"sqrt(\"+root[0]+\",\"+root[1]+\")\", word)\n",
    "    #word = re.sub(r\"sqrt\\(([^,]*)\\,([^\\)]*)\\)\", r\"sqrt(\\g<1>:\\g<2>)\", \"sqrt(2, 3)\")\n",
    "    word = re.sub(r\"([\\w])(\\(+[\\w])\", \"\\g<1>*\\g<2>\", word)\n",
    "    word = re.sub(r\"(\\)+)([\\w])\", \"\\g<1>*\\g<2>\", word)\n",
    "    word = re.sub(r\"(\\))(\\()\", \"\\g<1>*\\g<2>\", word)\n",
    "    word = re.sub(r\"([0-9]+)([a-zA-Z])\", \"\\g<1>*\\g<2>\", word)\n",
    "    #word = re.sub( r\"([a-zA-Z])(?=[a-zA-Z])\" , r\"\\1*\" , word)\n",
    "    word = re.sub(r\"sqrt\\*\", r\"sqrt\", word)\n",
    "    word = re.sub(r\"abs\\*\", r\"abs\", word)\n",
    "    word = re.sub(r\"pm\\*\", r\"pm\", word)\n",
    "    word = py2tex(word, simplify_output=False)\n",
    "    \n",
    "    #Here do the substitutions for the things that py2tex can't handle\n",
    "    for item in scientific_notation:\n",
    "        word = re.sub(item[0] + \"\\{\" + item[1] + \"\\}\", item[0] + \"\\\\\\\\times {\" + item[1] + \"}\", word)\n",
    "    word = re.sub(r\"\\\\operatorname{pm}\\\\left\\(a\\\\right\\)(\\\\times)?\", r\"\\\\pm \", word)\n",
    "    \n",
    "    return word[2:-2]"
   ]
  },
  {
   "cell_type": "code",
   "execution_count": 9,
   "metadata": {},
   "outputs": [
    {
     "data": {
      "text/latex": [
       "$$\\frac{{\\left(z \\sqrt{2}\\right)}^5}{z \\sqrt{2}}$$"
      ],
      "text/plain": [
       "<IPython.core.display.Latex object>"
      ]
     },
     "metadata": {},
     "output_type": "display_data"
    },
    {
     "name": "stdout",
     "output_type": "stream",
     "text": [
      "$$\\frac{{\\left(z \\sqrt{2}\\right)}^5}{z \\sqrt{2}}$$\n"
     ]
    },
    {
     "data": {
      "text/plain": [
       "('<InlineMath math=\"\\\\frac{{\\\\left(z \\\\sqrt{2}\\\\right)}^5}{z \\\\sqrt{2}}\"/>',\n",
       " True)"
      ]
     },
     "execution_count": 9,
     "metadata": {},
     "output_type": "execute_result"
    }
   ],
   "source": [
    "preprocess_text_to_latex(\"(z*sqrt(2))**5/(z*sqrt(2))\")"
   ]
  },
  {
   "cell_type": "code",
   "execution_count": 7,
   "metadata": {},
   "outputs": [],
   "source": [
    "scaff_dic = {\"mc\": \"string\", \"numeric\": \"TextBox\", \"algebra\": \"TextBox\", \"string\": \"string\"}\n",
    "\n",
    "def handle_answer_type(answer_type):\n",
    "    if answer_type == \"mc\":\n",
    "        return \"string\", \"MultipleChoice\"\n",
    "    elif answer_type == \"string\":\n",
    "        return answer_type, \"TextBox\"\n",
    "    elif answer_type == \"algebra\" or answer_type == \"numeric\":\n",
    "        return \"arithmetic\", \"TextBox\"\n",
    "    else:\n",
    "        print(answer_type)\n",
    "        raise Exception('answer type not correct' + answer_type)\n",
    "\n",
    "\n",
    "def create_scaffold(step, hint_id, title, body, answer_type, answer, mc_answers, dependencies=0.0, images=\"\", subhints=[], hint_dic={}):\n",
    "    title, title_latex = preprocess_text_to_latex(title, True)\n",
    "    body, body_latex = preprocess_text_to_latex(body, True)\n",
    "    \n",
    "    scaffold_id = step + \"-\" + hint_id\n",
    "    for image in images:\n",
    "        body += \"\\\\n##{0}##\".format(image)\n",
    "\n",
    "    if type(dependencies) == str:\n",
    "        try:\n",
    "            dependencies = json.dumps([hint_dic[hint_id] for hint_id in dependencies.split(\",\")])\n",
    "        except Exception as e:\n",
    "            print(\"Key error\")\n",
    "            print(step, hint_id, title, body)\n",
    "            raise Exception(\"hint key error\")\n",
    "    else:\n",
    "        dependencies = \"[]\"\n",
    "    \n",
    "    answer_type, problem_type = handle_answer_type(answer_type)\n",
    "    if answer_type == \"arithmetic\":\n",
    "        answer = re.sub(\"\\*\\*\", \"^\", answer)\n",
    "    scaff_ans = \"[\\\"\" + str(answer) + \"\\\"]\"\n",
    "\n",
    "    \n",
    "    if type(mc_answers) != float:\n",
    "        mc_answers = json.dumps([preprocess_text_to_latex(mc_answer, True)[0] for mc_answer in mc_answers.split(\"|\") if mc_answer])\n",
    "        answer = preprocess_text_to_latex(answer, True)[0]\n",
    "    \n",
    "    \n",
    "\n",
    "    scaff_obj = \"id: \\\"{0}\\\", type: \\\"scaffold\\\", problemType: \\\"{1}\\\", answerType: \\\"{2}\\\", hintAnswer: {3}, dependencies: {4}\".format(scaffold_id, problem_type, answer_type, scaff_ans, dependencies)\n",
    "    scaff_obj += \", title: \\\"{0}\\\"\".format(title)\n",
    "    scaff_obj += \", text: \\\"{0}\\\"\".format(body)\n",
    "    \n",
    "    \n",
    "    if type(mc_answers) == str:\n",
    "        scaff_obj += \", choices: {0}\".format(mc_answers)\n",
    "    if len(subhints) > 0:\n",
    "        subhint_text = \"\"\n",
    "        for subhint in subhints:\n",
    "            subhint_text += subhint + \", \"\n",
    "        subhint_text = subhint_text[:-2]\n",
    "        subhint_text = \"[\" + subhint_text + \"]\"    \n",
    "        scaff_obj += \", subHints: {0}\".format(subhint_text)\n",
    "\n",
    "    scaff_obj = \"{\" + scaff_obj + \"}\"\n",
    "    return scaff_obj, scaffold_id"
   ]
  },
  {
   "cell_type": "code",
   "execution_count": 8,
   "metadata": {},
   "outputs": [
    {
     "data": {
      "text/latex": [
       "$$x^2+\\left(5\\right)$$"
      ],
      "text/plain": [
       "<IPython.core.display.Latex object>"
      ]
     },
     "metadata": {},
     "output_type": "display_data"
    },
    {
     "name": "stdout",
     "output_type": "stream",
     "text": [
      "$$x^2+\\left(5\\right)$$\n"
     ]
    },
    {
     "data": {
      "text/latex": [
       "$${\\left(3\\right)}^2$$"
      ],
      "text/plain": [
       "<IPython.core.display.Latex object>"
      ]
     },
     "metadata": {},
     "output_type": "display_data"
    },
    {
     "name": "stdout",
     "output_type": "stream",
     "text": [
      "$${\\left(3\\right)}^2$$\n"
     ]
    },
    {
     "data": {
      "text/latex": [
       "$${\\left(4\\right)}^2$$"
      ],
      "text/plain": [
       "<IPython.core.display.Latex object>"
      ]
     },
     "metadata": {},
     "output_type": "display_data"
    },
    {
     "name": "stdout",
     "output_type": "stream",
     "text": [
      "$${\\left(4\\right)}^2$$\n"
     ]
    },
    {
     "data": {
      "text/latex": [
       "$${\\left(5\\right)}^2$$"
      ],
      "text/plain": [
       "<IPython.core.display.Latex object>"
      ]
     },
     "metadata": {},
     "output_type": "display_data"
    },
    {
     "name": "stdout",
     "output_type": "stream",
     "text": [
      "$${\\left(5\\right)}^2$$\n"
     ]
    },
    {
     "data": {
      "text/latex": [
       "$${\\left(6\\right)}^2$$"
      ],
      "text/plain": [
       "<IPython.core.display.Latex object>"
      ]
     },
     "metadata": {},
     "output_type": "display_data"
    },
    {
     "name": "stdout",
     "output_type": "stream",
     "text": [
      "$${\\left(6\\right)}^2$$\n",
      "('{id: \"slope2a-h1\", type: \"scaffold\", problemType: \"MultipleChoice\", answerType: \"string\", hintAnswer: [\"3\"], dependencies: [], title: \"Slope Example (Part 1)\", text: \"what is the answer to $$x^2+\\\\\\\\left(5\\\\\\\\right)$$\\\\n##figure1.gif##\", choices: [\"$${\\\\\\\\\\\\\\\\left(3\\\\\\\\\\\\\\\\right)}^2$$\", \"$${\\\\\\\\\\\\\\\\left(4\\\\\\\\\\\\\\\\right)}^2$$\", \"$${\\\\\\\\\\\\\\\\left(5\\\\\\\\\\\\\\\\right)}^2$$\", \"$${\\\\\\\\\\\\\\\\left(6\\\\\\\\\\\\\\\\right)}^2$$\"]}', 'slope2a-h1')\n"
     ]
    }
   ],
   "source": [
    "print(create_scaffold(\"slope2a\", \"h1\", \"Slope Example (Part 1)\", \"what is the answer to x**2+5\", \"mc\", \"3\", mc_answers=\"3**2|4**2|5**2|6**2\", images=[\"figure1.gif\"]))"
   ]
  },
  {
   "cell_type": "code",
   "execution_count": null,
   "metadata": {},
   "outputs": [],
   "source": []
  }
 ],
 "metadata": {
  "kernelspec": {
   "display_name": "Python 3",
   "language": "python",
   "name": "python3"
  },
  "language_info": {
   "codemirror_mode": {
    "name": "ipython",
    "version": 3
   },
   "file_extension": ".py",
   "mimetype": "text/x-python",
   "name": "python",
   "nbconvert_exporter": "python",
   "pygments_lexer": "ipython3",
   "version": "3.8.3"
  }
 },
 "nbformat": 4,
 "nbformat_minor": 4
}
