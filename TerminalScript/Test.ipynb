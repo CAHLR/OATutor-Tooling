{
 "cells": [
  {
   "cell_type": "code",
   "execution_count": 36,
   "metadata": {},
   "outputs": [],
   "source": [
    "import pandas as pd\n",
    "import numpy as np\n",
    "import gspread \n",
    "from oauth2client.service_account import ServiceAccountCredentials\n",
    "# import jsbeautifier\n",
    "import os\n",
    "import urllib.request\n",
    "import json\n",
    "import re\n",
    "import sys\n",
    "import xlrd"
   ]
  },
  {
   "cell_type": "code",
   "execution_count": 37,
   "metadata": {},
   "outputs": [],
   "source": [
    "pd.options.display.html.use_mathjax = False"
   ]
  },
  {
   "cell_type": "code",
   "execution_count": 49,
   "metadata": {},
   "outputs": [],
   "source": [
    "from create_dir import *\n",
    "from create_content import *\n",
    "from pytexit import py2tex"
   ]
  },
  {
   "cell_type": "code",
   "execution_count": 50,
   "metadata": {},
   "outputs": [],
   "source": [
    "supported_operators = [\"**\", \"/\", \"*\", \"+\", \">\", \"<\", \"=\"]\n",
    "supported_word_operators = [\"sqrt\", \"abs\", \"inf\"]\n",
    "replace = {\"⋅\" : \"*\", \"−\" : \"-\", \"^\" : \"**\", \"𝑥\" : \"x\", \"𝑎\" : \"a\", \"𝑏\" : \"b\", \"𝑦\" : \"y\", \"–\": \"-\", \"≥\" : \">=\", \"≤\": \"<=\", \"∪\" : \"U\"}\n",
    "conditionally_replace = {\"[\" : \"(\", \"]\" : \")\"}\n",
    "regex = re.compile(\"|\".join(map(re.escape, replace.keys())))\n",
    "\n",
    "#Figure out way to deal with equal signs\n",
    "def preprocess_text_to_latex(text, tutoring=False, stepMC= False):\n",
    "    text = str(text)\n",
    "    text = regex.sub(lambda match: replace[match.group(0)], text)\n",
    "    if not re.findall(\"[\\[|\\(][-\\d\\s\\w]+,[-\\d\\s\\w]+[\\)|\\]]\", text): #Checking to see if there are coordinates/intervals before replacing () with []\n",
    "        text = regex.sub(lambda match: conditionally_replace[match.group(0)], text)\n",
    "    \n",
    "    \n",
    "    #Account for space in sqrt(x, y)\n",
    "    text = re.sub(r\"sqrt[\\s]?\\(([^,]+),[\\s]+([^\\)])\\)\", r\"sqrt(\\g<1>,\\g<2>)\", text)\n",
    "    text = re.sub(r\"sqrt(?:\\s*)?\\(\", r\"sqrt(\", text)\n",
    "    text = re.sub(r\"abs(?:\\s*)?\\(\", r\"abs(\", text)\n",
    "    text = re.sub(\"\\([\\s]*([-\\d]+)[\\s]*,[\\s]*([-\\d]+)[\\s]*\\)\", \"(\\g<1>,\\g<2>)\", text) #To account for coordinates\n",
    "    for operator in supported_operators:\n",
    "        text = re.sub(\"(\\s?){0}(\\s?)\".format(re.escape(operator)), \"{0}\".format(operator), text)\n",
    "        \n",
    "    words = text.split()\n",
    "    latex = False\n",
    "    for i in list(range(len(words))):\n",
    "        word = words[i]\n",
    "        \n",
    "        if any([op in word for op in supported_operators]) or any([op in word for op in supported_word_operators]):\n",
    "            punctuation = re.findall(\"[\\?\\.,:]+}$\", word) #Capture all the punctuation at the end of the sentence\n",
    "            if punctuation:\n",
    "                punctuation = punctuation[0]\n",
    "            else:\n",
    "                punctuation = \"\"\n",
    "            word = re.sub(\"[\\?\\.,:]+}$\", \"\", word)\n",
    "            try:                \n",
    "                sides = re.split('(=|U|<=|>=)', word)\n",
    "                sides = [handle_word(side) for side in sides]\n",
    "                new_word = \"\"\n",
    "                if tutoring and stepMC:\n",
    "                    new_word = \"$$\" + \"\".join(sides) + \"$$\"\n",
    "                    #sides = [\"$$\" + side + \"$$\" for side in sides] \n",
    "                elif tutoring:\n",
    "                    new_word = \"$$\" + \"\".join(sides) + \"$$\"\n",
    "                    # new_word = \"$$\" + \"\".join([side.replace(\"\\\\\", \"\\\\\\\\\") for side in sides]) + \"$$\"\n",
    "                    #sides = [\"$$\" + side.replace(\"\\\\\", \"\\\\\\\\\") + \"$$\" for side in sides]\n",
    "                else:\n",
    "                    new_word = \"<InlineMath math=\\\"\" + \"\".join(sides) + \"\\\"/>\"\n",
    "                    #sides = [\"<InlineMath math=\\\"\" + side + \"\\\"/>\" for side in sides]\n",
    "                #new_word = \"=\".join(sides)\n",
    "                new_word += punctuation\n",
    "                latex=True\n",
    "                words[i] = new_word\n",
    "                \n",
    "            except Exception as e:\n",
    "                print(\"This failed\")\n",
    "                print(word)\n",
    "                print(e)\n",
    "                pass\n",
    "    text = \" \".join(words)\n",
    "    return text, latex\n",
    "\n",
    "def handle_word(word):\n",
    "    latex_dic = {\"=\": \"=\", \"U\": \" \\cup \", \"<=\" : \" \\leq \", \">=\" : \" \\geq \"}\n",
    "    if word in latex_dic:\n",
    "        return latex_dic[word]\n",
    "    \n",
    "    coordinates = re.findall(\"[\\(|\\[][-\\d\\s]+,[-\\d\\s]+[\\)|\\]]\",word)\n",
    "    if coordinates:\n",
    "        word = re.sub(\"inf\", r\"\\\\infty\", word)\n",
    "        return word\n",
    "    \n",
    "    word = re.sub(\"\\+/-\", \"pm(a)\", word)\n",
    "    \n",
    "    original_word = word\n",
    "    scientific_notation = re.findall(\"\\(?([\\d]{2,})\\)?\\*([\\d]{2,})\\*\\*\", word)\n",
    "    word = re.sub(\":sqrt\", \": sqrt\", word)\n",
    "    square_roots = re.findall(r\"sqrt\\(([^,]*)\\,([^\\)]*)\\)\", word)\n",
    "    word = re.sub(\",\", \"\", word)\n",
    "    for root in square_roots:\n",
    "        word = re.sub(r\"sqrt\\(\"+root[0]+root[1]+\"\\)\", r\"sqrt(\"+root[0]+\",\"+root[1]+\")\", word)\n",
    "    #word = re.sub(r\"sqrt\\(([^,]*)\\,([^\\)]*)\\)\", r\"sqrt(\\g<1>:\\g<2>)\", \"sqrt(2, 3)\")\n",
    "    word = re.sub(r\"([\\w])(\\(+[\\w])\", \"\\g<1>*\\g<2>\", word)\n",
    "    word = re.sub(r\"(\\)+)([\\w])\", \"\\g<1>*\\g<2>\", word)\n",
    "    word = re.sub(r\"(\\))(\\()\", \"\\g<1>*\\g<2>\", word)\n",
    "    word = re.sub(r\"([0-9]+)([a-zA-Z])\", \"\\g<1>*\\g<2>\", word)\n",
    "    #word = re.sub( r\"([a-zA-Z])(?=[a-zA-Z])\" , r\"\\1*\" , word)\n",
    "    word = re.sub(r\"sqrt\\*\", r\"sqrt\", word)\n",
    "    word = re.sub(r\"abs\\*\", r\"abs\", word)\n",
    "    word = re.sub(r\"pm\\*\", r\"pm\", word)\n",
    "    word = py2tex(word, simplify_output=False)\n",
    "    \n",
    "    #Here do the substitutions for the things that py2tex can't handle\n",
    "    for item in scientific_notation:\n",
    "        word = re.sub(item[0] + \"\\{\" + item[1] + \"\\}\", item[0] + \"\\\\\\\\times {\" + item[1] + \"}\", word)\n",
    "    word = re.sub(r\"\\\\operatorname{pm}\\\\left\\(a\\\\right\\)(\\\\times)?\", r\"\\\\pm \", word)\n",
    "    \n",
    "    return word[2:-2]"
   ]
  },
  {
   "cell_type": "code",
   "execution_count": 46,
   "metadata": {},
   "outputs": [],
   "source": [
    "path = \"../Excel/Book1.xlsx\"\n",
    "df = pd.read_excel(path, \"Sheet3\", header=0, dtype=str)"
   ]
  },
  {
   "cell_type": "code",
   "execution_count": 47,
   "metadata": {},
   "outputs": [],
   "source": [
    "df = df[[\"Problem Name\",\"Row Type\",\"Title\",\"Body Text\",\"Answer\", \"answerType\", \"HintID\", \"Dependency\", \"mcChoices\", \"Images (space delimited)\",\"Parent\",\"OER src\",\"openstax KC\", \"KC\",\"Taxonomy\"]]\n",
    "df = df.astype(str)\n",
    "df.replace('nan', float(0.0), inplace = True)\n",
    "df[\"Body Text\"] = df[\"Body Text\"].str.replace(\"\\\"\", \"\\\\\\\"\")\n",
    "df[\"Title\"] = df[\"Title\"].str.replace(\"\\\"\", \"\\\\\\\"\")"
   ]
  },
  {
   "cell_type": "code",
   "execution_count": 41,
   "metadata": {},
   "outputs": [
    {
     "data": {
      "text/html": [
       "<div>\n",
       "<style scoped>\n",
       "    .dataframe tbody tr th:only-of-type {\n",
       "        vertical-align: middle;\n",
       "    }\n",
       "\n",
       "    .dataframe tbody tr th {\n",
       "        vertical-align: top;\n",
       "    }\n",
       "\n",
       "    .dataframe thead th {\n",
       "        text-align: right;\n",
       "    }\n",
       "</style>\n",
       "<table border=\"1\" class=\"dataframe tex2jax_ignore\">\n",
       "  <thead>\n",
       "    <tr style=\"text-align: right;\">\n",
       "      <th></th>\n",
       "      <th>Problem Name</th>\n",
       "      <th>Row Type</th>\n",
       "      <th>Title</th>\n",
       "      <th>Body Text</th>\n",
       "      <th>Answer</th>\n",
       "      <th>answerType</th>\n",
       "      <th>HintID</th>\n",
       "      <th>Dependency</th>\n",
       "      <th>mcChoices</th>\n",
       "      <th>Images (space delimited)</th>\n",
       "      <th>Parent</th>\n",
       "      <th>OER src</th>\n",
       "      <th>openstax KC</th>\n",
       "      <th>KC</th>\n",
       "      <th>Taxonomy</th>\n",
       "    </tr>\n",
       "  </thead>\n",
       "  <tbody>\n",
       "    <tr>\n",
       "      <th>0</th>\n",
       "      <td>complex6</td>\n",
       "      <td>problem</td>\n",
       "      <td>Multiplying a Complex Number by a Real Number</td>\n",
       "      <td>Find the product.</td>\n",
       "      <td>0</td>\n",
       "      <td>0</td>\n",
       "      <td>0</td>\n",
       "      <td>0.0</td>\n",
       "      <td>0</td>\n",
       "      <td>0.0</td>\n",
       "      <td>0.0</td>\n",
       "      <td>http://openstax.org</td>\n",
       "      <td>Multiplying Complex Numbers</td>\n",
       "      <td>Multiplying Complex Numbers</td>\n",
       "      <td>http://openstax.org</td>\n",
       "    </tr>\n",
       "    <tr>\n",
       "      <th>1</th>\n",
       "      <td>complex6</td>\n",
       "      <td>step</td>\n",
       "      <td>12(5−2i)</td>\n",
       "      <td>NaN</td>\n",
       "      <td>60-24i</td>\n",
       "      <td>mc</td>\n",
       "      <td>0</td>\n",
       "      <td>0.0</td>\n",
       "      <td>60|-24i|60-24i|50-24i</td>\n",
       "      <td>0.0</td>\n",
       "      <td>0.0</td>\n",
       "      <td>0</td>\n",
       "      <td>0</td>\n",
       "      <td>0</td>\n",
       "      <td>0</td>\n",
       "    </tr>\n",
       "    <tr>\n",
       "      <th>2</th>\n",
       "      <td>complex6</td>\n",
       "      <td>hint</td>\n",
       "      <td>Using the Distributive Property</td>\n",
       "      <td>The first step is to use the Distributive Prop...</td>\n",
       "      <td>0</td>\n",
       "      <td>0</td>\n",
       "      <td>h1</td>\n",
       "      <td>0.0</td>\n",
       "      <td>0</td>\n",
       "      <td>0.0</td>\n",
       "      <td>0.0</td>\n",
       "      <td>0</td>\n",
       "      <td>0</td>\n",
       "      <td>0</td>\n",
       "      <td>0</td>\n",
       "    </tr>\n",
       "    <tr>\n",
       "      <th>3</th>\n",
       "      <td>complex6</td>\n",
       "      <td>scaffold</td>\n",
       "      <td>Rewriting the Expression With the Distributive...</td>\n",
       "      <td>What does the expression look like after it is...</td>\n",
       "      <td>12*5-12*2i</td>\n",
       "      <td>mc</td>\n",
       "      <td>h2</td>\n",
       "      <td>0.0</td>\n",
       "      <td>5-2i|12*5-12*2i|12i|5i</td>\n",
       "      <td>0.0</td>\n",
       "      <td>0.0</td>\n",
       "      <td>0</td>\n",
       "      <td>0</td>\n",
       "      <td>0</td>\n",
       "      <td>0</td>\n",
       "    </tr>\n",
       "    <tr>\n",
       "      <th>4</th>\n",
       "      <td>complex6</td>\n",
       "      <td>scaffold</td>\n",
       "      <td>Product of First Term</td>\n",
       "      <td>What is the product of 12*5?</td>\n",
       "      <td>60</td>\n",
       "      <td>numeric</td>\n",
       "      <td>h3</td>\n",
       "      <td>0.0</td>\n",
       "      <td>0</td>\n",
       "      <td>0.0</td>\n",
       "      <td>0.0</td>\n",
       "      <td>0</td>\n",
       "      <td>0</td>\n",
       "      <td>0</td>\n",
       "      <td>0</td>\n",
       "    </tr>\n",
       "    <tr>\n",
       "      <th>5</th>\n",
       "      <td>complex6</td>\n",
       "      <td>scaffold</td>\n",
       "      <td>Product of Second Term</td>\n",
       "      <td>What is the product of 12*2i?</td>\n",
       "      <td>24i</td>\n",
       "      <td>mc</td>\n",
       "      <td>h4</td>\n",
       "      <td>0.0</td>\n",
       "      <td>24i|12i|2i|16i</td>\n",
       "      <td>0.0</td>\n",
       "      <td>0.0</td>\n",
       "      <td>0</td>\n",
       "      <td>0</td>\n",
       "      <td>0</td>\n",
       "      <td>0</td>\n",
       "    </tr>\n",
       "  </tbody>\n",
       "</table>\n",
       "</div>"
      ],
      "text/plain": [
       "  Problem Name  Row Type                                              Title  \\\n",
       "0     complex6   problem      Multiplying a Complex Number by a Real Number   \n",
       "1     complex6      step                                           12(5−2i)   \n",
       "2     complex6      hint                    Using the Distributive Property   \n",
       "3     complex6  scaffold  Rewriting the Expression With the Distributive...   \n",
       "4     complex6  scaffold                              Product of First Term   \n",
       "5     complex6  scaffold                             Product of Second Term   \n",
       "\n",
       "                                           Body Text      Answer answerType  \\\n",
       "0                                  Find the product.           0          0   \n",
       "1                                                NaN      60-24i         mc   \n",
       "2  The first step is to use the Distributive Prop...           0          0   \n",
       "3  What does the expression look like after it is...  12*5-12*2i         mc   \n",
       "4                       What is the product of 12*5?          60    numeric   \n",
       "5                      What is the product of 12*2i?         24i         mc   \n",
       "\n",
       "  HintID  Dependency               mcChoices  Images (space delimited)  \\\n",
       "0      0         0.0                       0                       0.0   \n",
       "1      0         0.0   60|-24i|60-24i|50-24i                       0.0   \n",
       "2     h1         0.0                       0                       0.0   \n",
       "3     h2         0.0  5-2i|12*5-12*2i|12i|5i                       0.0   \n",
       "4     h3         0.0                       0                       0.0   \n",
       "5     h4         0.0          24i|12i|2i|16i                       0.0   \n",
       "\n",
       "   Parent              OER src                  openstax KC  \\\n",
       "0     0.0  http://openstax.org  Multiplying Complex Numbers   \n",
       "1     0.0                    0                            0   \n",
       "2     0.0                    0                            0   \n",
       "3     0.0                    0                            0   \n",
       "4     0.0                    0                            0   \n",
       "5     0.0                    0                            0   \n",
       "\n",
       "                            KC             Taxonomy  \n",
       "0  Multiplying Complex Numbers  http://openstax.org  \n",
       "1                            0                    0  \n",
       "2                            0                    0  \n",
       "3                            0                    0  \n",
       "4                            0                    0  \n",
       "5                            0                    0  "
      ]
     },
     "execution_count": 41,
     "metadata": {},
     "output_type": "execute_result"
    }
   ],
   "source": [
    "df"
   ]
  },
  {
   "cell_type": "code",
   "execution_count": 42,
   "metadata": {},
   "outputs": [],
   "source": [
    "mc_answers = df.iloc[3][\"mcChoices\"]\n",
    "answer = df.iloc[3][\"Answer\"]"
   ]
  },
  {
   "cell_type": "code",
   "execution_count": 43,
   "metadata": {},
   "outputs": [
    {
     "data": {
      "text/plain": [
       "['5-2i', '12*5-12*2i', '12i', '5i']"
      ]
     },
     "execution_count": 43,
     "metadata": {},
     "output_type": "execute_result"
    }
   ],
   "source": [
    "[mc_answer for mc_answer in mc_answers.split(\"|\")]"
   ]
  },
  {
   "cell_type": "code",
   "execution_count": 51,
   "metadata": {},
   "outputs": [
    {
     "data": {
      "text/latex": [
       "$$\\left(12\\right) \\left(5\\right)-\\left(12\\right) \\left(2\\right) i$$"
      ],
      "text/plain": [
       "<IPython.core.display.Latex object>"
      ]
     },
     "metadata": {},
     "output_type": "display_data"
    },
    {
     "name": "stdout",
     "output_type": "stream",
     "text": [
      "$$\\left(12\\right) \\left(5\\right)-\\left(12\\right) \\left(2\\right) i$$\n"
     ]
    },
    {
     "data": {
      "text/plain": [
       "('$$\\\\left(12\\\\right) \\\\left(5\\\\right)-\\\\left(12\\\\right) \\\\left(2\\\\right) i$$',\n",
       " True)"
      ]
     },
     "execution_count": 51,
     "metadata": {},
     "output_type": "execute_result"
    }
   ],
   "source": [
    "preprocess_text_to_latex('12*5-12*2i', True)"
   ]
  },
  {
   "cell_type": "code",
   "execution_count": 31,
   "metadata": {},
   "outputs": [
    {
     "data": {
      "text/latex": [
       "$$\\left(12\\right) \\left(5\\right)-\\left(12\\right) \\left(2\\right) i$$"
      ],
      "text/plain": [
       "<IPython.core.display.Latex object>"
      ]
     },
     "metadata": {},
     "output_type": "display_data"
    },
    {
     "name": "stdout",
     "output_type": "stream",
     "text": [
      "$$\\left(12\\right) \\left(5\\right)-\\left(12\\right) \\left(2\\right) i$$\n"
     ]
    },
    {
     "data": {
      "text/plain": [
       "['5-2i',\n",
       " '$$\\\\\\\\left(12\\\\\\\\right) \\\\\\\\left(5\\\\\\\\right)-\\\\\\\\left(12\\\\\\\\right) \\\\\\\\left(2\\\\\\\\right) i$$',\n",
       " '12i',\n",
       " '5i']"
      ]
     },
     "execution_count": 31,
     "metadata": {},
     "output_type": "execute_result"
    }
   ],
   "source": [
    "[preprocess_text_to_latex(mc_answer, True)[0] for mc_answer in mc_answers.split(\"|\") if mc_answer]"
   ]
  },
  {
   "cell_type": "code",
   "execution_count": 56,
   "metadata": {},
   "outputs": [
    {
     "data": {
      "text/plain": [
       "'i represents sqrt(-1).'"
      ]
     },
     "execution_count": 56,
     "metadata": {},
     "output_type": "execute_result"
    }
   ],
   "source": [
    "text = \"i represents sqrt(-1).\"\n",
    "text = re.sub(r\"sqrt[\\s]?\\(([^,]+),[\\s]+([^\\)])\\)\", r\"sqrt(\\g<1>,\\g<2>)\", text)\n",
    "text = re.sub(r\"sqrt(?:\\s*)?\\(\", r\"sqrt(\", text)\n",
    "text"
   ]
  },
  {
   "cell_type": "code",
   "execution_count": 59,
   "metadata": {},
   "outputs": [
    {
     "name": "stdout",
     "output_type": "stream",
     "text": [
      "['i', 'represents', 'sqrt(-1).']\n",
      "[]\n"
     ]
    }
   ],
   "source": [
    "supported_operators = [\"**\", \"/\", \"*\", \"+\", \">\", \"<\", \"=\"]\n",
    "supported_word_operators = [\"sqrt\", \"abs\", \"inf\"]\n",
    "words = text.split()\n",
    "print(words)\n",
    "for i in list(range(len(words))):\n",
    "    word = words[i]\n",
    "    if any([op in word for op in supported_operators]) or any([op in word for op in supported_word_operators]):\n",
    "        punctuation = re.findall(\"[\\?\\.,:]+}$\", word) #Capture all the punctuation at the end of the sentence\n",
    "        print(punctuation)\n",
    "        if punctuation:\n",
    "            punctuation = punctuation[0]\n",
    "        else:\n",
    "            punctuation = \"\"\n"
   ]
  },
  {
   "cell_type": "code",
   "execution_count": 68,
   "metadata": {},
   "outputs": [
    {
     "data": {
      "text/plain": [
       "['.']"
      ]
     },
     "execution_count": 68,
     "metadata": {},
     "output_type": "execute_result"
    }
   ],
   "source": [
    "re.findall('[?.,:]', 'sqrt(-1).')"
   ]
  },
  {
   "cell_type": "code",
   "execution_count": 70,
   "metadata": {},
   "outputs": [
    {
     "data": {
      "text/plain": [
       "['.,}']"
      ]
     },
     "execution_count": 70,
     "metadata": {},
     "output_type": "execute_result"
    }
   ],
   "source": [
    "re.findall(\"[?.,:]+}$\", '.,}')"
   ]
  },
  {
   "cell_type": "code",
   "execution_count": 21,
   "metadata": {},
   "outputs": [
    {
     "data": {
      "text/plain": [
       "'2020-01-16 00:00:00'"
      ]
     },
     "execution_count": 21,
     "metadata": {},
     "output_type": "execute_result"
    }
   ],
   "source": [
    "df.iloc[105]['Answer']"
   ]
  },
  {
   "cell_type": "code",
   "execution_count": 25,
   "metadata": {},
   "outputs": [],
   "source": [
    "li = re.split('-| ', df.iloc[105]['Answer'])"
   ]
  },
  {
   "cell_type": "code",
   "execution_count": 27,
   "metadata": {},
   "outputs": [
    {
     "data": {
      "text/plain": [
       "'1/16'"
      ]
     },
     "execution_count": 27,
     "metadata": {},
     "output_type": "execute_result"
    }
   ],
   "source": [
    "str(int(li[1])) + '/' + str(int(li[2]))"
   ]
  },
  {
   "cell_type": "code",
   "execution_count": 48,
   "metadata": {},
   "outputs": [
    {
     "data": {
      "text/plain": [
       "0                        0\n",
       "1                  (x+2)/3\n",
       "2                        0\n",
       "3                      x+2\n",
       "4                  (x+2)/3\n",
       "              ...         \n",
       "160    2020-07-14 00:00:00\n",
       "161    2020-02-14 00:00:00\n",
       "162                      0\n",
       "163                      9\n",
       "164    2020-09-14 00:00:00\n",
       "Name: Answer, Length: 165, dtype: object"
      ]
     },
     "execution_count": 48,
     "metadata": {},
     "output_type": "execute_result"
    }
   ],
   "source": [
    "df['Answer']"
   ]
  },
  {
   "cell_type": "code",
   "execution_count": 49,
   "metadata": {},
   "outputs": [
    {
     "data": {
      "text/plain": [
       "0       NaN\n",
       "1       7.0\n",
       "2       NaN\n",
       "3       3.0\n",
       "4       7.0\n",
       "       ... \n",
       "160    19.0\n",
       "161    19.0\n",
       "162     NaN\n",
       "163     1.0\n",
       "164    19.0\n",
       "Name: Answer, Length: 165, dtype: float64"
      ]
     },
     "execution_count": 49,
     "metadata": {},
     "output_type": "execute_result"
    }
   ],
   "source": [
    "df['Answer'].str.len()"
   ]
  },
  {
   "cell_type": "code",
   "execution_count": 39,
   "metadata": {},
   "outputs": [
    {
     "data": {
      "text/plain": [
       "0      hi\n",
       "1      hi\n",
       "2      hi\n",
       "3      hi\n",
       "4      hi\n",
       "       ..\n",
       "160    hi\n",
       "161    hi\n",
       "162    hi\n",
       "163    hi\n",
       "164    hi\n",
       "Name: Answer, Length: 165, dtype: object"
      ]
     },
     "execution_count": 39,
     "metadata": {},
     "output_type": "execute_result"
    }
   ],
   "source": [
    "df['Answer']"
   ]
  },
  {
   "cell_type": "code",
   "execution_count": null,
   "metadata": {},
   "outputs": [],
   "source": []
  },
  {
   "cell_type": "code",
   "execution_count": 28,
   "metadata": {},
   "outputs": [
    {
     "data": {
      "text/latex": [
       "$$\\left(12\\right) \\left(5\\right)-\\left(12\\right) \\left(2\\right) i$$"
      ],
      "text/plain": [
       "<IPython.core.display.Latex object>"
      ]
     },
     "metadata": {},
     "output_type": "display_data"
    },
    {
     "name": "stdout",
     "output_type": "stream",
     "text": [
      "$$\\left(12\\right) \\left(5\\right)-\\left(12\\right) \\left(2\\right) i$$\n"
     ]
    },
    {
     "data": {
      "text/latex": [
       "$$\\left(12\\right) \\left(5\\right)-\\left(12\\right) \\left(2\\right) i$$"
      ],
      "text/plain": [
       "<IPython.core.display.Latex object>"
      ]
     },
     "metadata": {},
     "output_type": "display_data"
    },
    {
     "name": "stdout",
     "output_type": "stream",
     "text": [
      "$$\\left(12\\right) \\left(5\\right)-\\left(12\\right) \\left(2\\right) i$$\n",
      "This failed\n",
      "12*5?\n",
      "invalid syntax (<unknown>, line 1)\n",
      "This failed\n",
      "12*2i?\n",
      "invalid syntax (<unknown>, line 1)\n"
     ]
    },
    {
     "data": {
      "text/plain": [
       "['{id: \"current_step_name-h2\", type: \"scaffold\", problemType: \"MultipleChoice\", answerType: \"string\", hintAnswer: [\"12*5-12*2i\"], dependencies: [], title: \"Rewriting the Expression With the Distributive Property\", text: \"What does the expression look like after it is rewritten using the Distributive Property?\", choices: [\"5-2i\", \"$$\\\\\\\\\\\\\\\\left(12\\\\\\\\\\\\\\\\right) \\\\\\\\\\\\\\\\left(5\\\\\\\\\\\\\\\\right)-\\\\\\\\\\\\\\\\left(12\\\\\\\\\\\\\\\\right) \\\\\\\\\\\\\\\\left(2\\\\\\\\\\\\\\\\right) i$$\", \"12i\", \"5i\"]}',\n",
       " '{id: \"current_step_name-h3\", type: \"scaffold\", problemType: \"TextBox\", answerType: \"arithmetic\", hintAnswer: [\"60\"], dependencies: [], title: \"Product of First Term\", text: \"What is the product of 12*5?\"}',\n",
       " '{id: \"current_step_name-h4\", type: \"scaffold\", problemType: \"MultipleChoice\", answerType: \"string\", hintAnswer: [\"24i\"], dependencies: [], title: \"Product of Second Term\", text: \"What is the product of 12*2i?\", choices: [\"24i\", \"12i\", \"2i\", \"16i\"]}']"
      ]
     },
     "execution_count": 28,
     "metadata": {},
     "output_type": "execute_result"
    }
   ],
   "source": [
    "questions = [x for _, x in df.groupby(df['Problem Name'])]\n",
    "problem_name = questions[0].iloc[0]['Problem Name']\n",
    "tutoring = []\n",
    "hint_dic = {}\n",
    "for question in questions:\n",
    "    for index, row in question.iterrows():\n",
    "        #checks row type \n",
    "        row_type = row['Row Type'].strip().lower()\n",
    "        if index != 0:\n",
    "            if row_type == \"scaffold\":\n",
    "                scaff_images = \"\"\n",
    "                scaff, full_id = create_scaffold(\"current_step_name\", row[\"HintID\"], row[\"Title\"], row[\"Body Text\"], row[\"answerType\"], row[\"Answer\"], row[\"mcChoices\"], row[\"Dependency\"], scaff_images, hint_dic=hint_dic)\n",
    "                hint_dic[row[\"HintID\"]] = full_id\n",
    "                tutoring.append(scaff)\n",
    "#                 previous_tutor = row\n",
    "#                 previous_images = scaff_images\n",
    "tutoring"
   ]
  },
  {
   "cell_type": "code",
   "execution_count": null,
   "metadata": {},
   "outputs": [],
   "source": []
  },
  {
   "cell_type": "code",
   "execution_count": null,
   "metadata": {},
   "outputs": [],
   "source": [
    "import re, urllib\n",
    "\n",
    "class Spreadsheet(object):\n",
    "    def __init__(self, key):\n",
    "        super(Spreadsheet, self).__init__()\n",
    "        self.key = key\n",
    "\n",
    "class Client(object):\n",
    "    def __init__(self, email, password):\n",
    "        super(Client, self).__init__()\n",
    "        self.email = email\n",
    "        self.password = password\n",
    "\n",
    "    def _get_auth_token(self, email, password, source, service):\n",
    "        url = \"https://www.google.com/accounts/ClientLogin\"\n",
    "        params = {\n",
    "            \"Email\": email, \"Passwd\": password,\n",
    "            \"service\": service,\n",
    "            \"accountType\": \"HOSTED_OR_GOOGLE\",\n",
    "            \"source\": source\n",
    "        }\n",
    "        req = urllib.Request(url, urllib.urlencode(params))\n",
    "        return re.findall(r\"Auth=(.*)\", urllib2.urlopen(req).read())[0]\n",
    "\n",
    "    def get_auth_token(self):\n",
    "        source = type(self).__name__\n",
    "        return self._get_auth_token(self.email, self.password, source, service=\"wise\")\n",
    "\n",
    "    def download(self, spreadsheet, gid=0, format=\"csv\"):\n",
    "        url_format = \"https://spreadsheets.google.com/feeds/download/spreadsheets/Export?key=%s&exportFormat=%s&gid=%i\"\n",
    "        headers = {\n",
    "            \"Authorization\": \"GoogleLogin auth=\" + self.get_auth_token(),\n",
    "            \"GData-Version\": \"3.0\"\n",
    "        }\n",
    "        req = urllib.Request(url_format % (spreadsheet.key, format, gid), headers=headers)\n",
    "        return urllib.urlopen(req)\n",
    "\n",
    "if __name__ == \"__main__\":\n",
    "    import getpass\n",
    "    import csv\n",
    "\n",
    "    email = \"tinnaliu@berkeley.edu\" # (your email here)\n",
    "    password = getpass.getpass()\n",
    "    spreadsheet_id = \"1Lp0uGtQsuzxzrm1TSctuZttJRrvaG0E5cwT-75UKZeY\" # (spreadsheet id here)\n",
    "\n",
    "    # Create client and spreadsheet objects\n",
    "    gs = Client(email, password)\n",
    "    ss = Spreadsheet(spreadsheet_id)\n",
    "\n",
    "    # Request a file-like object containing the spreadsheet's contents\n",
    "    csv_file = gs.download(ss)\n",
    "\n",
    "    # Parse as CSV and print the rows\n",
    "    for row in csv.reader(csv_file):\n",
    "        print(\", \".join(row))"
   ]
  },
  {
   "cell_type": "code",
   "execution_count": null,
   "metadata": {},
   "outputs": [],
   "source": []
  },
  {
   "cell_type": "code",
   "execution_count": null,
   "metadata": {},
   "outputs": [],
   "source": []
  },
  {
   "cell_type": "code",
   "execution_count": null,
   "metadata": {},
   "outputs": [],
   "source": []
  },
  {
   "cell_type": "code",
   "execution_count": null,
   "metadata": {},
   "outputs": [],
   "source": []
  },
  {
   "cell_type": "code",
   "execution_count": null,
   "metadata": {},
   "outputs": [],
   "source": []
  },
  {
   "cell_type": "code",
   "execution_count": 13,
   "metadata": {},
   "outputs": [],
   "source": []
  },
  {
   "cell_type": "code",
   "execution_count": null,
   "metadata": {},
   "outputs": [],
   "source": []
  },
  {
   "cell_type": "code",
   "execution_count": null,
   "metadata": {},
   "outputs": [],
   "source": []
  },
  {
   "cell_type": "code",
   "execution_count": null,
   "metadata": {},
   "outputs": [],
   "source": []
  },
  {
   "cell_type": "code",
   "execution_count": null,
   "metadata": {},
   "outputs": [],
   "source": []
  }
 ],
 "metadata": {
  "kernelspec": {
   "display_name": "Python 3",
   "language": "python",
   "name": "python3"
  },
  "language_info": {
   "codemirror_mode": {
    "name": "ipython",
    "version": 3
   },
   "file_extension": ".py",
   "mimetype": "text/x-python",
   "name": "python",
   "nbconvert_exporter": "python",
   "pygments_lexer": "ipython3",
   "version": "3.8.3"
  }
 },
 "nbformat": 4,
 "nbformat_minor": 4
}
