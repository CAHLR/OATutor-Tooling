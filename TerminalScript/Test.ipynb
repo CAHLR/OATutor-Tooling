{
 "cells": [
  {
   "cell_type": "code",
   "execution_count": 1,
   "metadata": {},
   "outputs": [],
   "source": [
    "from typing import Collection\n",
    "import pandas as pd\n",
    "import numpy as np\n",
    "import gspread \n",
    "from gspread_dataframe import set_with_dataframe\n",
    "from oauth2client.service_account import ServiceAccountCredentials\n",
    "from Naked.toolshed.shell import muterun_js, execute_js\n",
    "from distutils.dir_util import copy_tree\n",
    "import shutil\n",
    "# import jsbeautifier\n",
    "import os\n",
    "import urllib.request\n",
    "import requests\n",
    "import json\n",
    "import re\n",
    "import sys\n",
    "import hashlib\n",
    "from datetime import datetime\n",
    "import time"
   ]
  },
  {
   "cell_type": "code",
   "execution_count": 37,
   "metadata": {},
   "outputs": [],
   "source": [
    "pd.options.display.html.use_mathjax = False"
   ]
  },
  {
   "cell_type": "code",
   "execution_count": 2,
   "metadata": {},
   "outputs": [
    {
     "ename": "UnsupportedOperation",
     "evalue": "detach",
     "output_type": "error",
     "traceback": [
      "\u001b[0;31m---------------------------------------------------------------------------\u001b[0m",
      "\u001b[0;31mUnsupportedOperation\u001b[0m                      Traceback (most recent call last)",
      "\u001b[0;32m<ipython-input-2-4289ef5a5abe>\u001b[0m in \u001b[0;36m<module>\u001b[0;34m\u001b[0m\n\u001b[1;32m      1\u001b[0m \u001b[0;32mfrom\u001b[0m \u001b[0mcreate_dir\u001b[0m \u001b[0;32mimport\u001b[0m \u001b[0;34m*\u001b[0m\u001b[0;34m\u001b[0m\u001b[0;34m\u001b[0m\u001b[0m\n\u001b[0;32m----> 2\u001b[0;31m \u001b[0;32mfrom\u001b[0m \u001b[0mcreate_content\u001b[0m \u001b[0;32mimport\u001b[0m \u001b[0;34m*\u001b[0m\u001b[0;34m\u001b[0m\u001b[0;34m\u001b[0m\u001b[0m\n\u001b[0m\u001b[1;32m      3\u001b[0m \u001b[0;32mfrom\u001b[0m \u001b[0mpytexit\u001b[0m \u001b[0;32mimport\u001b[0m \u001b[0mpy2tex\u001b[0m\u001b[0;34m\u001b[0m\u001b[0;34m\u001b[0m\u001b[0m\n",
      "\u001b[0;32m~/Desktop/OpenITS-content/TerminalScript/create_content.py\u001b[0m in \u001b[0;36m<module>\u001b[0;34m\u001b[0m\n\u001b[1;32m      2\u001b[0m \u001b[0;32mimport\u001b[0m \u001b[0mre\u001b[0m\u001b[0;34m\u001b[0m\u001b[0;34m\u001b[0m\u001b[0m\n\u001b[1;32m      3\u001b[0m \u001b[0;34m\u001b[0m\u001b[0m\n\u001b[0;32m----> 4\u001b[0;31m \u001b[0;32mfrom\u001b[0m \u001b[0mprocess_text\u001b[0m \u001b[0;32mimport\u001b[0m \u001b[0mpreprocess_text_to_latex\u001b[0m\u001b[0;34m\u001b[0m\u001b[0;34m\u001b[0m\u001b[0m\n\u001b[0m\u001b[1;32m      5\u001b[0m \u001b[0;34m\u001b[0m\u001b[0m\n\u001b[1;32m      6\u001b[0m \u001b[0;32mdef\u001b[0m \u001b[0mcreate_variabilization\u001b[0m\u001b[0;34m(\u001b[0m\u001b[0mvariabilization\u001b[0m\u001b[0;34m)\u001b[0m\u001b[0;34m:\u001b[0m\u001b[0;34m\u001b[0m\u001b[0;34m\u001b[0m\u001b[0m\n",
      "\u001b[0;32m~/Desktop/OpenITS-content/TerminalScript/process_text.py\u001b[0m in \u001b[0;36m<module>\u001b[0;34m\u001b[0m\n\u001b[1;32m      5\u001b[0m \u001b[0;32mimport\u001b[0m \u001b[0mio\u001b[0m\u001b[0;34m\u001b[0m\u001b[0;34m\u001b[0m\u001b[0m\n\u001b[1;32m      6\u001b[0m \u001b[0;34m\u001b[0m\u001b[0m\n\u001b[0;32m----> 7\u001b[0;31m \u001b[0msys\u001b[0m\u001b[0;34m.\u001b[0m\u001b[0mstdout\u001b[0m \u001b[0;34m=\u001b[0m \u001b[0mio\u001b[0m\u001b[0;34m.\u001b[0m\u001b[0mTextIOWrapper\u001b[0m\u001b[0;34m(\u001b[0m\u001b[0msys\u001b[0m\u001b[0;34m.\u001b[0m\u001b[0mstdout\u001b[0m\u001b[0;34m.\u001b[0m\u001b[0mdetach\u001b[0m\u001b[0;34m(\u001b[0m\u001b[0;34m)\u001b[0m\u001b[0;34m,\u001b[0m \u001b[0mencoding\u001b[0m \u001b[0;34m=\u001b[0m \u001b[0;34m'utf-8'\u001b[0m\u001b[0;34m)\u001b[0m\u001b[0;34m\u001b[0m\u001b[0;34m\u001b[0m\u001b[0m\n\u001b[0m\u001b[1;32m      8\u001b[0m \u001b[0msys\u001b[0m\u001b[0;34m.\u001b[0m\u001b[0mstderr\u001b[0m \u001b[0;34m=\u001b[0m \u001b[0mio\u001b[0m\u001b[0;34m.\u001b[0m\u001b[0mTextIOWrapper\u001b[0m\u001b[0;34m(\u001b[0m\u001b[0msys\u001b[0m\u001b[0;34m.\u001b[0m\u001b[0mstderr\u001b[0m\u001b[0;34m.\u001b[0m\u001b[0mdetach\u001b[0m\u001b[0;34m(\u001b[0m\u001b[0;34m)\u001b[0m\u001b[0;34m,\u001b[0m \u001b[0mencoding\u001b[0m \u001b[0;34m=\u001b[0m \u001b[0;34m'utf-8'\u001b[0m\u001b[0;34m)\u001b[0m\u001b[0;34m\u001b[0m\u001b[0;34m\u001b[0m\u001b[0m\n\u001b[1;32m      9\u001b[0m \u001b[0;34m\u001b[0m\u001b[0m\n",
      "\u001b[0;31mUnsupportedOperation\u001b[0m: detach"
     ]
    }
   ],
   "source": [
    "from create_dir import *\n",
    "from create_content import *\n",
    "from pytexit import py2tex"
   ]
  },
  {
   "cell_type": "code",
   "execution_count": 50,
   "metadata": {},
   "outputs": [],
   "source": [
    "supported_operators = [\"**\", \"/\", \"*\", \"+\", \">\", \"<\", \"=\"]\n",
    "supported_word_operators = [\"sqrt\", \"abs\", \"inf\"]\n",
    "replace = {\"⋅\" : \"*\", \"−\" : \"-\", \"^\" : \"**\", \"𝑥\" : \"x\", \"𝑎\" : \"a\", \"𝑏\" : \"b\", \"𝑦\" : \"y\", \"–\": \"-\", \"≥\" : \">=\", \"≤\": \"<=\", \"∪\" : \"U\"}\n",
    "conditionally_replace = {\"[\" : \"(\", \"]\" : \")\"}\n",
    "regex = re.compile(\"|\".join(map(re.escape, replace.keys())))\n",
    "\n",
    "#Figure out way to deal with equal signs\n",
    "def preprocess_text_to_latex(text, tutoring=False, stepMC= False):\n",
    "    text = str(text)\n",
    "    text = regex.sub(lambda match: replace[match.group(0)], text)\n",
    "    if not re.findall(\"[\\[|\\(][-\\d\\s\\w]+,[-\\d\\s\\w]+[\\)|\\]]\", text): #Checking to see if there are coordinates/intervals before replacing () with []\n",
    "        text = regex.sub(lambda match: conditionally_replace[match.group(0)], text)\n",
    "    \n",
    "    \n",
    "    #Account for space in sqrt(x, y)\n",
    "    text = re.sub(r\"sqrt[\\s]?\\(([^,]+),[\\s]+([^\\)])\\)\", r\"sqrt(\\g<1>,\\g<2>)\", text)\n",
    "    text = re.sub(r\"sqrt(?:\\s*)?\\(\", r\"sqrt(\", text)\n",
    "    text = re.sub(r\"abs(?:\\s*)?\\(\", r\"abs(\", text)\n",
    "    text = re.sub(\"\\([\\s]*([-\\d]+)[\\s]*,[\\s]*([-\\d]+)[\\s]*\\)\", \"(\\g<1>,\\g<2>)\", text) #To account for coordinates\n",
    "    for operator in supported_operators:\n",
    "        text = re.sub(\"(\\s?){0}(\\s?)\".format(re.escape(operator)), \"{0}\".format(operator), text)\n",
    "        \n",
    "    words = text.split()\n",
    "    latex = False\n",
    "    for i in list(range(len(words))):\n",
    "        word = words[i]\n",
    "        \n",
    "        if any([op in word for op in supported_operators]) or any([op in word for op in supported_word_operators]):\n",
    "            punctuation = re.findall(\"[\\?\\.,:]+}$\", word) #Capture all the punctuation at the end of the sentence\n",
    "            if punctuation:\n",
    "                punctuation = punctuation[0]\n",
    "            else:\n",
    "                punctuation = \"\"\n",
    "            word = re.sub(\"[\\?\\.,:]+}$\", \"\", word)\n",
    "            try:                \n",
    "                sides = re.split('(=|U|<=|>=)', word)\n",
    "                sides = [handle_word(side) for side in sides]\n",
    "                new_word = \"\"\n",
    "                if tutoring and stepMC:\n",
    "                    new_word = \"$$\" + \"\".join(sides) + \"$$\"\n",
    "                    #sides = [\"$$\" + side + \"$$\" for side in sides] \n",
    "                elif tutoring:\n",
    "                    new_word = \"$$\" + \"\".join(sides) + \"$$\"\n",
    "                    # new_word = \"$$\" + \"\".join([side.replace(\"\\\\\", \"\\\\\\\\\") for side in sides]) + \"$$\"\n",
    "                    #sides = [\"$$\" + side.replace(\"\\\\\", \"\\\\\\\\\") + \"$$\" for side in sides]\n",
    "                else:\n",
    "                    new_word = \"<InlineMath math=\\\"\" + \"\".join(sides) + \"\\\"/>\"\n",
    "                    #sides = [\"<InlineMath math=\\\"\" + side + \"\\\"/>\" for side in sides]\n",
    "                #new_word = \"=\".join(sides)\n",
    "                new_word += punctuation\n",
    "                latex=True\n",
    "                words[i] = new_word\n",
    "                \n",
    "            except Exception as e:\n",
    "                print(\"This failed\")\n",
    "                print(word)\n",
    "                print(e)\n",
    "                pass\n",
    "    text = \" \".join(words)\n",
    "    return text, latex\n",
    "\n",
    "def handle_word(word):\n",
    "    latex_dic = {\"=\": \"=\", \"U\": \" \\cup \", \"<=\" : \" \\leq \", \">=\" : \" \\geq \"}\n",
    "    if word in latex_dic:\n",
    "        return latex_dic[word]\n",
    "    \n",
    "    coordinates = re.findall(\"[\\(|\\[][-\\d\\s]+,[-\\d\\s]+[\\)|\\]]\",word)\n",
    "    if coordinates:\n",
    "        word = re.sub(\"inf\", r\"\\\\infty\", word)\n",
    "        return word\n",
    "    \n",
    "    word = re.sub(\"\\+/-\", \"pm(a)\", word)\n",
    "    \n",
    "    original_word = word\n",
    "    scientific_notation = re.findall(\"\\(?([\\d]{2,})\\)?\\*([\\d]{2,})\\*\\*\", word)\n",
    "    word = re.sub(\":sqrt\", \": sqrt\", word)\n",
    "    square_roots = re.findall(r\"sqrt\\(([^,]*)\\,([^\\)]*)\\)\", word)\n",
    "    word = re.sub(\",\", \"\", word)\n",
    "    for root in square_roots:\n",
    "        word = re.sub(r\"sqrt\\(\"+root[0]+root[1]+\"\\)\", r\"sqrt(\"+root[0]+\",\"+root[1]+\")\", word)\n",
    "    #word = re.sub(r\"sqrt\\(([^,]*)\\,([^\\)]*)\\)\", r\"sqrt(\\g<1>:\\g<2>)\", \"sqrt(2, 3)\")\n",
    "    word = re.sub(r\"([\\w])(\\(+[\\w])\", \"\\g<1>*\\g<2>\", word)\n",
    "    word = re.sub(r\"(\\)+)([\\w])\", \"\\g<1>*\\g<2>\", word)\n",
    "    word = re.sub(r\"(\\))(\\()\", \"\\g<1>*\\g<2>\", word)\n",
    "    word = re.sub(r\"([0-9]+)([a-zA-Z])\", \"\\g<1>*\\g<2>\", word)\n",
    "    #word = re.sub( r\"([a-zA-Z])(?=[a-zA-Z])\" , r\"\\1*\" , word)\n",
    "    word = re.sub(r\"sqrt\\*\", r\"sqrt\", word)\n",
    "    word = re.sub(r\"abs\\*\", r\"abs\", word)\n",
    "    word = re.sub(r\"pm\\*\", r\"pm\", word)\n",
    "    word = py2tex(word, simplify_output=False)\n",
    "    \n",
    "    #Here do the substitutions for the things that py2tex can't handle\n",
    "    for item in scientific_notation:\n",
    "        word = re.sub(item[0] + \"\\{\" + item[1] + \"\\}\", item[0] + \"\\\\\\\\times {\" + item[1] + \"}\", word)\n",
    "    word = re.sub(r\"\\\\operatorname{pm}\\\\left\\(a\\\\right\\)(\\\\times)?\", r\"\\\\pm \", word)\n",
    "    \n",
    "    return word[2:-2]"
   ]
  },
  {
   "cell_type": "code",
   "execution_count": 46,
   "metadata": {},
   "outputs": [],
   "source": [
    "path = \"../Excel/Book1.xlsx\"\n",
    "df = pd.read_excel(path, \"Sheet3\", header=0, dtype=str)"
   ]
  },
  {
   "cell_type": "code",
   "execution_count": 47,
   "metadata": {},
   "outputs": [],
   "source": [
    "df = df[[\"Problem Name\",\"Row Type\",\"Title\",\"Body Text\",\"Answer\", \"answerType\", \"HintID\", \"Dependency\", \"mcChoices\", \"Images (space delimited)\",\"Parent\",\"OER src\",\"openstax KC\", \"KC\",\"Taxonomy\"]]\n",
    "df = df.astype(str)\n",
    "df.replace('nan', float(0.0), inplace = True)\n",
    "df[\"Body Text\"] = df[\"Body Text\"].str.replace(\"\\\"\", \"\\\\\\\"\")\n",
    "df[\"Title\"] = df[\"Title\"].str.replace(\"\\\"\", \"\\\\\\\"\")"
   ]
  },
  {
   "cell_type": "code",
   "execution_count": 41,
   "metadata": {},
   "outputs": [
    {
     "data": {
      "text/html": [
       "<div>\n",
       "<style scoped>\n",
       "    .dataframe tbody tr th:only-of-type {\n",
       "        vertical-align: middle;\n",
       "    }\n",
       "\n",
       "    .dataframe tbody tr th {\n",
       "        vertical-align: top;\n",
       "    }\n",
       "\n",
       "    .dataframe thead th {\n",
       "        text-align: right;\n",
       "    }\n",
       "</style>\n",
       "<table border=\"1\" class=\"dataframe tex2jax_ignore\">\n",
       "  <thead>\n",
       "    <tr style=\"text-align: right;\">\n",
       "      <th></th>\n",
       "      <th>Problem Name</th>\n",
       "      <th>Row Type</th>\n",
       "      <th>Title</th>\n",
       "      <th>Body Text</th>\n",
       "      <th>Answer</th>\n",
       "      <th>answerType</th>\n",
       "      <th>HintID</th>\n",
       "      <th>Dependency</th>\n",
       "      <th>mcChoices</th>\n",
       "      <th>Images (space delimited)</th>\n",
       "      <th>Parent</th>\n",
       "      <th>OER src</th>\n",
       "      <th>openstax KC</th>\n",
       "      <th>KC</th>\n",
       "      <th>Taxonomy</th>\n",
       "    </tr>\n",
       "  </thead>\n",
       "  <tbody>\n",
       "    <tr>\n",
       "      <th>0</th>\n",
       "      <td>complex6</td>\n",
       "      <td>problem</td>\n",
       "      <td>Multiplying a Complex Number by a Real Number</td>\n",
       "      <td>Find the product.</td>\n",
       "      <td>0</td>\n",
       "      <td>0</td>\n",
       "      <td>0</td>\n",
       "      <td>0.0</td>\n",
       "      <td>0</td>\n",
       "      <td>0.0</td>\n",
       "      <td>0.0</td>\n",
       "      <td>http://openstax.org</td>\n",
       "      <td>Multiplying Complex Numbers</td>\n",
       "      <td>Multiplying Complex Numbers</td>\n",
       "      <td>http://openstax.org</td>\n",
       "    </tr>\n",
       "    <tr>\n",
       "      <th>1</th>\n",
       "      <td>complex6</td>\n",
       "      <td>step</td>\n",
       "      <td>12(5−2i)</td>\n",
       "      <td>NaN</td>\n",
       "      <td>60-24i</td>\n",
       "      <td>mc</td>\n",
       "      <td>0</td>\n",
       "      <td>0.0</td>\n",
       "      <td>60|-24i|60-24i|50-24i</td>\n",
       "      <td>0.0</td>\n",
       "      <td>0.0</td>\n",
       "      <td>0</td>\n",
       "      <td>0</td>\n",
       "      <td>0</td>\n",
       "      <td>0</td>\n",
       "    </tr>\n",
       "    <tr>\n",
       "      <th>2</th>\n",
       "      <td>complex6</td>\n",
       "      <td>hint</td>\n",
       "      <td>Using the Distributive Property</td>\n",
       "      <td>The first step is to use the Distributive Prop...</td>\n",
       "      <td>0</td>\n",
       "      <td>0</td>\n",
       "      <td>h1</td>\n",
       "      <td>0.0</td>\n",
       "      <td>0</td>\n",
       "      <td>0.0</td>\n",
       "      <td>0.0</td>\n",
       "      <td>0</td>\n",
       "      <td>0</td>\n",
       "      <td>0</td>\n",
       "      <td>0</td>\n",
       "    </tr>\n",
       "    <tr>\n",
       "      <th>3</th>\n",
       "      <td>complex6</td>\n",
       "      <td>scaffold</td>\n",
       "      <td>Rewriting the Expression With the Distributive...</td>\n",
       "      <td>What does the expression look like after it is...</td>\n",
       "      <td>12*5-12*2i</td>\n",
       "      <td>mc</td>\n",
       "      <td>h2</td>\n",
       "      <td>0.0</td>\n",
       "      <td>5-2i|12*5-12*2i|12i|5i</td>\n",
       "      <td>0.0</td>\n",
       "      <td>0.0</td>\n",
       "      <td>0</td>\n",
       "      <td>0</td>\n",
       "      <td>0</td>\n",
       "      <td>0</td>\n",
       "    </tr>\n",
       "    <tr>\n",
       "      <th>4</th>\n",
       "      <td>complex6</td>\n",
       "      <td>scaffold</td>\n",
       "      <td>Product of First Term</td>\n",
       "      <td>What is the product of 12*5?</td>\n",
       "      <td>60</td>\n",
       "      <td>numeric</td>\n",
       "      <td>h3</td>\n",
       "      <td>0.0</td>\n",
       "      <td>0</td>\n",
       "      <td>0.0</td>\n",
       "      <td>0.0</td>\n",
       "      <td>0</td>\n",
       "      <td>0</td>\n",
       "      <td>0</td>\n",
       "      <td>0</td>\n",
       "    </tr>\n",
       "    <tr>\n",
       "      <th>5</th>\n",
       "      <td>complex6</td>\n",
       "      <td>scaffold</td>\n",
       "      <td>Product of Second Term</td>\n",
       "      <td>What is the product of 12*2i?</td>\n",
       "      <td>24i</td>\n",
       "      <td>mc</td>\n",
       "      <td>h4</td>\n",
       "      <td>0.0</td>\n",
       "      <td>24i|12i|2i|16i</td>\n",
       "      <td>0.0</td>\n",
       "      <td>0.0</td>\n",
       "      <td>0</td>\n",
       "      <td>0</td>\n",
       "      <td>0</td>\n",
       "      <td>0</td>\n",
       "    </tr>\n",
       "  </tbody>\n",
       "</table>\n",
       "</div>"
      ],
      "text/plain": [
       "  Problem Name  Row Type                                              Title  \\\n",
       "0     complex6   problem      Multiplying a Complex Number by a Real Number   \n",
       "1     complex6      step                                           12(5−2i)   \n",
       "2     complex6      hint                    Using the Distributive Property   \n",
       "3     complex6  scaffold  Rewriting the Expression With the Distributive...   \n",
       "4     complex6  scaffold                              Product of First Term   \n",
       "5     complex6  scaffold                             Product of Second Term   \n",
       "\n",
       "                                           Body Text      Answer answerType  \\\n",
       "0                                  Find the product.           0          0   \n",
       "1                                                NaN      60-24i         mc   \n",
       "2  The first step is to use the Distributive Prop...           0          0   \n",
       "3  What does the expression look like after it is...  12*5-12*2i         mc   \n",
       "4                       What is the product of 12*5?          60    numeric   \n",
       "5                      What is the product of 12*2i?         24i         mc   \n",
       "\n",
       "  HintID  Dependency               mcChoices  Images (space delimited)  \\\n",
       "0      0         0.0                       0                       0.0   \n",
       "1      0         0.0   60|-24i|60-24i|50-24i                       0.0   \n",
       "2     h1         0.0                       0                       0.0   \n",
       "3     h2         0.0  5-2i|12*5-12*2i|12i|5i                       0.0   \n",
       "4     h3         0.0                       0                       0.0   \n",
       "5     h4         0.0          24i|12i|2i|16i                       0.0   \n",
       "\n",
       "   Parent              OER src                  openstax KC  \\\n",
       "0     0.0  http://openstax.org  Multiplying Complex Numbers   \n",
       "1     0.0                    0                            0   \n",
       "2     0.0                    0                            0   \n",
       "3     0.0                    0                            0   \n",
       "4     0.0                    0                            0   \n",
       "5     0.0                    0                            0   \n",
       "\n",
       "                            KC             Taxonomy  \n",
       "0  Multiplying Complex Numbers  http://openstax.org  \n",
       "1                            0                    0  \n",
       "2                            0                    0  \n",
       "3                            0                    0  \n",
       "4                            0                    0  \n",
       "5                            0                    0  "
      ]
     },
     "execution_count": 41,
     "metadata": {},
     "output_type": "execute_result"
    }
   ],
   "source": [
    "df"
   ]
  },
  {
   "cell_type": "code",
   "execution_count": 42,
   "metadata": {},
   "outputs": [],
   "source": [
    "mc_answers = df.iloc[3][\"mcChoices\"]\n",
    "answer = df.iloc[3][\"Answer\"]"
   ]
  },
  {
   "cell_type": "code",
   "execution_count": 43,
   "metadata": {},
   "outputs": [
    {
     "data": {
      "text/plain": [
       "['5-2i', '12*5-12*2i', '12i', '5i']"
      ]
     },
     "execution_count": 43,
     "metadata": {},
     "output_type": "execute_result"
    }
   ],
   "source": [
    "[mc_answer for mc_answer in mc_answers.split(\"|\")]"
   ]
  },
  {
   "cell_type": "code",
   "execution_count": 51,
   "metadata": {},
   "outputs": [
    {
     "data": {
      "text/latex": [
       "$$\\left(12\\right) \\left(5\\right)-\\left(12\\right) \\left(2\\right) i$$"
      ],
      "text/plain": [
       "<IPython.core.display.Latex object>"
      ]
     },
     "metadata": {},
     "output_type": "display_data"
    },
    {
     "name": "stdout",
     "output_type": "stream",
     "text": [
      "$$\\left(12\\right) \\left(5\\right)-\\left(12\\right) \\left(2\\right) i$$\n"
     ]
    },
    {
     "data": {
      "text/plain": [
       "('$$\\\\left(12\\\\right) \\\\left(5\\\\right)-\\\\left(12\\\\right) \\\\left(2\\\\right) i$$',\n",
       " True)"
      ]
     },
     "execution_count": 51,
     "metadata": {},
     "output_type": "execute_result"
    }
   ],
   "source": [
    "preprocess_text_to_latex('12*5-12*2i', True)"
   ]
  },
  {
   "cell_type": "code",
   "execution_count": 31,
   "metadata": {},
   "outputs": [
    {
     "data": {
      "text/latex": [
       "$$\\left(12\\right) \\left(5\\right)-\\left(12\\right) \\left(2\\right) i$$"
      ],
      "text/plain": [
       "<IPython.core.display.Latex object>"
      ]
     },
     "metadata": {},
     "output_type": "display_data"
    },
    {
     "name": "stdout",
     "output_type": "stream",
     "text": [
      "$$\\left(12\\right) \\left(5\\right)-\\left(12\\right) \\left(2\\right) i$$\n"
     ]
    },
    {
     "data": {
      "text/plain": [
       "['5-2i',\n",
       " '$$\\\\\\\\left(12\\\\\\\\right) \\\\\\\\left(5\\\\\\\\right)-\\\\\\\\left(12\\\\\\\\right) \\\\\\\\left(2\\\\\\\\right) i$$',\n",
       " '12i',\n",
       " '5i']"
      ]
     },
     "execution_count": 31,
     "metadata": {},
     "output_type": "execute_result"
    }
   ],
   "source": [
    "[preprocess_text_to_latex(mc_answer, True)[0] for mc_answer in mc_answers.split(\"|\") if mc_answer]"
   ]
  },
  {
   "cell_type": "code",
   "execution_count": 56,
   "metadata": {},
   "outputs": [
    {
     "data": {
      "text/plain": [
       "'i represents sqrt(-1).'"
      ]
     },
     "execution_count": 56,
     "metadata": {},
     "output_type": "execute_result"
    }
   ],
   "source": [
    "text = \"i represents sqrt(-1).\"\n",
    "text = re.sub(r\"sqrt[\\s]?\\(([^,]+),[\\s]+([^\\)])\\)\", r\"sqrt(\\g<1>,\\g<2>)\", text)\n",
    "text = re.sub(r\"sqrt(?:\\s*)?\\(\", r\"sqrt(\", text)\n",
    "text"
   ]
  },
  {
   "cell_type": "code",
   "execution_count": 59,
   "metadata": {},
   "outputs": [
    {
     "name": "stdout",
     "output_type": "stream",
     "text": [
      "['i', 'represents', 'sqrt(-1).']\n",
      "[]\n"
     ]
    }
   ],
   "source": [
    "supported_operators = [\"**\", \"/\", \"*\", \"+\", \">\", \"<\", \"=\"]\n",
    "supported_word_operators = [\"sqrt\", \"abs\", \"inf\"]\n",
    "words = text.split()\n",
    "print(words)\n",
    "for i in list(range(len(words))):\n",
    "    word = words[i]\n",
    "    if any([op in word for op in supported_operators]) or any([op in word for op in supported_word_operators]):\n",
    "        punctuation = re.findall(\"[\\?\\.,:]+}$\", word) #Capture all the punctuation at the end of the sentence\n",
    "        print(punctuation)\n",
    "        if punctuation:\n",
    "            punctuation = punctuation[0]\n",
    "        else:\n",
    "            punctuation = \"\"\n"
   ]
  },
  {
   "cell_type": "code",
   "execution_count": 68,
   "metadata": {},
   "outputs": [
    {
     "data": {
      "text/plain": [
       "['.']"
      ]
     },
     "execution_count": 68,
     "metadata": {},
     "output_type": "execute_result"
    }
   ],
   "source": [
    "re.findall('[?.,:]', 'sqrt(-1).')"
   ]
  },
  {
   "cell_type": "code",
   "execution_count": 70,
   "metadata": {},
   "outputs": [
    {
     "data": {
      "text/plain": [
       "['.,}']"
      ]
     },
     "execution_count": 70,
     "metadata": {},
     "output_type": "execute_result"
    }
   ],
   "source": [
    "re.findall(\"[?.,:]+}$\", '.,}')"
   ]
  },
  {
   "cell_type": "code",
   "execution_count": 21,
   "metadata": {},
   "outputs": [
    {
     "data": {
      "text/plain": [
       "'2020-01-16 00:00:00'"
      ]
     },
     "execution_count": 21,
     "metadata": {},
     "output_type": "execute_result"
    }
   ],
   "source": [
    "df.iloc[105]['Answer']"
   ]
  },
  {
   "cell_type": "code",
   "execution_count": 25,
   "metadata": {},
   "outputs": [],
   "source": [
    "li = re.split('-| ', df.iloc[105]['Answer'])"
   ]
  },
  {
   "cell_type": "code",
   "execution_count": 27,
   "metadata": {},
   "outputs": [
    {
     "data": {
      "text/plain": [
       "'1/16'"
      ]
     },
     "execution_count": 27,
     "metadata": {},
     "output_type": "execute_result"
    }
   ],
   "source": [
    "str(int(li[1])) + '/' + str(int(li[2]))"
   ]
  },
  {
   "cell_type": "code",
   "execution_count": 48,
   "metadata": {},
   "outputs": [
    {
     "data": {
      "text/plain": [
       "0                        0\n",
       "1                  (x+2)/3\n",
       "2                        0\n",
       "3                      x+2\n",
       "4                  (x+2)/3\n",
       "              ...         \n",
       "160    2020-07-14 00:00:00\n",
       "161    2020-02-14 00:00:00\n",
       "162                      0\n",
       "163                      9\n",
       "164    2020-09-14 00:00:00\n",
       "Name: Answer, Length: 165, dtype: object"
      ]
     },
     "execution_count": 48,
     "metadata": {},
     "output_type": "execute_result"
    }
   ],
   "source": [
    "df['Answer']"
   ]
  },
  {
   "cell_type": "code",
   "execution_count": 49,
   "metadata": {},
   "outputs": [
    {
     "data": {
      "text/plain": [
       "0       NaN\n",
       "1       7.0\n",
       "2       NaN\n",
       "3       3.0\n",
       "4       7.0\n",
       "       ... \n",
       "160    19.0\n",
       "161    19.0\n",
       "162     NaN\n",
       "163     1.0\n",
       "164    19.0\n",
       "Name: Answer, Length: 165, dtype: float64"
      ]
     },
     "execution_count": 49,
     "metadata": {},
     "output_type": "execute_result"
    }
   ],
   "source": [
    "df['Answer'].str.len()"
   ]
  },
  {
   "cell_type": "code",
   "execution_count": 39,
   "metadata": {},
   "outputs": [
    {
     "data": {
      "text/plain": [
       "0      hi\n",
       "1      hi\n",
       "2      hi\n",
       "3      hi\n",
       "4      hi\n",
       "       ..\n",
       "160    hi\n",
       "161    hi\n",
       "162    hi\n",
       "163    hi\n",
       "164    hi\n",
       "Name: Answer, Length: 165, dtype: object"
      ]
     },
     "execution_count": 39,
     "metadata": {},
     "output_type": "execute_result"
    }
   ],
   "source": [
    "df['Answer']"
   ]
  },
  {
   "cell_type": "code",
   "execution_count": null,
   "metadata": {},
   "outputs": [],
   "source": []
  },
  {
   "cell_type": "code",
   "execution_count": 28,
   "metadata": {},
   "outputs": [
    {
     "data": {
      "text/latex": [
       "$$\\left(12\\right) \\left(5\\right)-\\left(12\\right) \\left(2\\right) i$$"
      ],
      "text/plain": [
       "<IPython.core.display.Latex object>"
      ]
     },
     "metadata": {},
     "output_type": "display_data"
    },
    {
     "name": "stdout",
     "output_type": "stream",
     "text": [
      "$$\\left(12\\right) \\left(5\\right)-\\left(12\\right) \\left(2\\right) i$$\n"
     ]
    },
    {
     "data": {
      "text/latex": [
       "$$\\left(12\\right) \\left(5\\right)-\\left(12\\right) \\left(2\\right) i$$"
      ],
      "text/plain": [
       "<IPython.core.display.Latex object>"
      ]
     },
     "metadata": {},
     "output_type": "display_data"
    },
    {
     "name": "stdout",
     "output_type": "stream",
     "text": [
      "$$\\left(12\\right) \\left(5\\right)-\\left(12\\right) \\left(2\\right) i$$\n",
      "This failed\n",
      "12*5?\n",
      "invalid syntax (<unknown>, line 1)\n",
      "This failed\n",
      "12*2i?\n",
      "invalid syntax (<unknown>, line 1)\n"
     ]
    },
    {
     "data": {
      "text/plain": [
       "['{id: \"current_step_name-h2\", type: \"scaffold\", problemType: \"MultipleChoice\", answerType: \"string\", hintAnswer: [\"12*5-12*2i\"], dependencies: [], title: \"Rewriting the Expression With the Distributive Property\", text: \"What does the expression look like after it is rewritten using the Distributive Property?\", choices: [\"5-2i\", \"$$\\\\\\\\\\\\\\\\left(12\\\\\\\\\\\\\\\\right) \\\\\\\\\\\\\\\\left(5\\\\\\\\\\\\\\\\right)-\\\\\\\\\\\\\\\\left(12\\\\\\\\\\\\\\\\right) \\\\\\\\\\\\\\\\left(2\\\\\\\\\\\\\\\\right) i$$\", \"12i\", \"5i\"]}',\n",
       " '{id: \"current_step_name-h3\", type: \"scaffold\", problemType: \"TextBox\", answerType: \"arithmetic\", hintAnswer: [\"60\"], dependencies: [], title: \"Product of First Term\", text: \"What is the product of 12*5?\"}',\n",
       " '{id: \"current_step_name-h4\", type: \"scaffold\", problemType: \"MultipleChoice\", answerType: \"string\", hintAnswer: [\"24i\"], dependencies: [], title: \"Product of Second Term\", text: \"What is the product of 12*2i?\", choices: [\"24i\", \"12i\", \"2i\", \"16i\"]}']"
      ]
     },
     "execution_count": 28,
     "metadata": {},
     "output_type": "execute_result"
    }
   ],
   "source": [
    "questions = [x for _, x in df.groupby(df['Problem Name'])]\n",
    "problem_name = questions[0].iloc[0]['Problem Name']\n",
    "tutoring = []\n",
    "hint_dic = {}\n",
    "for question in questions:\n",
    "    for index, row in question.iterrows():\n",
    "        #checks row type \n",
    "        row_type = row['Row Type'].strip().lower()\n",
    "        if index != 0:\n",
    "            if row_type == \"scaffold\":\n",
    "                scaff_images = \"\"\n",
    "                scaff, full_id = create_scaffold(\"current_step_name\", row[\"HintID\"], row[\"Title\"], row[\"Body Text\"], row[\"answerType\"], row[\"Answer\"], row[\"mcChoices\"], row[\"Dependency\"], scaff_images, hint_dic=hint_dic)\n",
    "                hint_dic[row[\"HintID\"]] = full_id\n",
    "                tutoring.append(scaff)\n",
    "#                 previous_tutor = row\n",
    "#                 previous_images = scaff_images\n",
    "tutoring"
   ]
  },
  {
   "cell_type": "code",
   "execution_count": null,
   "metadata": {},
   "outputs": [],
   "source": []
  },
  {
   "cell_type": "code",
   "execution_count": null,
   "metadata": {},
   "outputs": [],
   "source": [
    "import re, urllib\n",
    "\n",
    "class Spreadsheet(object):\n",
    "    def __init__(self, key):\n",
    "        super(Spreadsheet, self).__init__()\n",
    "        self.key = key\n",
    "\n",
    "class Client(object):\n",
    "    def __init__(self, email, password):\n",
    "        super(Client, self).__init__()\n",
    "        self.email = email\n",
    "        self.password = password\n",
    "\n",
    "    def _get_auth_token(self, email, password, source, service):\n",
    "        url = \"https://www.google.com/accounts/ClientLogin\"\n",
    "        params = {\n",
    "            \"Email\": email, \"Passwd\": password,\n",
    "            \"service\": service,\n",
    "            \"accountType\": \"HOSTED_OR_GOOGLE\",\n",
    "            \"source\": source\n",
    "        }\n",
    "        req = urllib.Request(url, urllib.urlencode(params))\n",
    "        return re.findall(r\"Auth=(.*)\", urllib2.urlopen(req).read())[0]\n",
    "\n",
    "    def get_auth_token(self):\n",
    "        source = type(self).__name__\n",
    "        return self._get_auth_token(self.email, self.password, source, service=\"wise\")\n",
    "\n",
    "    def download(self, spreadsheet, gid=0, format=\"csv\"):\n",
    "        url_format = \"https://spreadsheets.google.com/feeds/download/spreadsheets/Export?key=%s&exportFormat=%s&gid=%i\"\n",
    "        headers = {\n",
    "            \"Authorization\": \"GoogleLogin auth=\" + self.get_auth_token(),\n",
    "            \"GData-Version\": \"3.0\"\n",
    "        }\n",
    "        req = urllib.Request(url_format % (spreadsheet.key, format, gid), headers=headers)\n",
    "        return urllib.urlopen(req)\n",
    "\n",
    "if __name__ == \"__main__\":\n",
    "    import getpass\n",
    "    import csv\n",
    "\n",
    "    email = \"tinnaliu@berkeley.edu\" # (your email here)\n",
    "    password = getpass.getpass()\n",
    "    spreadsheet_id = \"1Lp0uGtQsuzxzrm1TSctuZttJRrvaG0E5cwT-75UKZeY\" # (spreadsheet id here)\n",
    "\n",
    "    # Create client and spreadsheet objects\n",
    "    gs = Client(email, password)\n",
    "    ss = Spreadsheet(spreadsheet_id)\n",
    "\n",
    "    # Request a file-like object containing the spreadsheet's contents\n",
    "    csv_file = gs.download(ss)\n",
    "\n",
    "    # Parse as CSV and print the rows\n",
    "    for row in csv.reader(csv_file):\n",
    "        print(\", \".join(row))"
   ]
  },
  {
   "cell_type": "code",
   "execution_count": 24,
   "metadata": {},
   "outputs": [],
   "source": [
    "scope = ['https://spreadsheets.google.com/feeds'] \n",
    "credentials = ServiceAccountCredentials.from_json_keyfile_name('../sunlit-shelter-282118-8847831293f8.json', scope) \n",
    "gc = gspread.authorize(credentials)\n",
    "book = gc.open_by_key('1hOjiUSVAD5RxRB7NoO_8r-XnIerHJ0PWR7GII4n4ALI')\n",
    "worksheet = book.worksheet('Sheet4') \n",
    "table = worksheet.get_all_values()\n",
    "df = pd.DataFrame(table[1:], columns=table[0])\n",
    "##Only keep columns we need \n",
    "variabilization = 'Variabilization' in df.columns\n",
    "if variabilization:\n",
    "    df = df[[\"Problem Name\",\"Row Type\",\"Variabilization\",\"Title\",\"Body Text\",\"Answer\", \"answerType\", \"HintID\", \"Dependency\", \"mcChoices\", \"Images (space delimited)\",\"Parent\",\"OER src\",\"openstax KC\", \"KC\",\"Taxonomy\"]]\n",
    "else:\n",
    "    df = df[[\"Problem Name\",\"Row Type\",\"Title\",\"Body Text\",\"Answer\", \"answerType\", \"HintID\", \"Dependency\", \"mcChoices\", \"Images (space delimited)\",\"Parent\",\"OER src\",\"openstax KC\", \"KC\",\"Taxonomy\"]]\n",
    "df = df.astype(str)\n",
    "df.replace('', 0.0, inplace = True)\n",
    "df.replace(' ', 0.0, inplace = True)"
   ]
  },
  {
   "cell_type": "code",
   "execution_count": 41,
   "metadata": {},
   "outputs": [
    {
     "data": {
      "text/html": [
       "<div>\n",
       "<style scoped>\n",
       "    .dataframe tbody tr th:only-of-type {\n",
       "        vertical-align: middle;\n",
       "    }\n",
       "\n",
       "    .dataframe tbody tr th {\n",
       "        vertical-align: top;\n",
       "    }\n",
       "\n",
       "    .dataframe thead th {\n",
       "        text-align: right;\n",
       "    }\n",
       "</style>\n",
       "<table border=\"1\" class=\"dataframe\">\n",
       "  <thead>\n",
       "    <tr style=\"text-align: right;\">\n",
       "      <th></th>\n",
       "      <th>Check 1</th>\n",
       "      <th>Check 2</th>\n",
       "      <th>s1</th>\n",
       "    </tr>\n",
       "  </thead>\n",
       "  <tbody>\n",
       "    <tr>\n",
       "      <th>0</th>\n",
       "      <td>NaN</td>\n",
       "      <td>yes</td>\n",
       "      <td>answer missing</td>\n",
       "    </tr>\n",
       "    <tr>\n",
       "      <th>1</th>\n",
       "      <td>NaN</td>\n",
       "      <td>NaN</td>\n",
       "      <td>answer missing</td>\n",
       "    </tr>\n",
       "    <tr>\n",
       "      <th>2</th>\n",
       "      <td>NaN</td>\n",
       "      <td>NaN</td>\n",
       "      <td>NaN</td>\n",
       "    </tr>\n",
       "    <tr>\n",
       "      <th>3</th>\n",
       "      <td>NaN</td>\n",
       "      <td>NaN</td>\n",
       "      <td>NaN</td>\n",
       "    </tr>\n",
       "    <tr>\n",
       "      <th>4</th>\n",
       "      <td>NaN</td>\n",
       "      <td>NaN</td>\n",
       "      <td>NaN</td>\n",
       "    </tr>\n",
       "    <tr>\n",
       "      <th>5</th>\n",
       "      <td>NaN</td>\n",
       "      <td>NaN</td>\n",
       "      <td>NaN</td>\n",
       "    </tr>\n",
       "    <tr>\n",
       "      <th>6</th>\n",
       "      <td>NaN</td>\n",
       "      <td>NaN</td>\n",
       "      <td>NaN</td>\n",
       "    </tr>\n",
       "    <tr>\n",
       "      <th>7</th>\n",
       "      <td>NaN</td>\n",
       "      <td>NaN</td>\n",
       "      <td>NaN</td>\n",
       "    </tr>\n",
       "    <tr>\n",
       "      <th>8</th>\n",
       "      <td>NaN</td>\n",
       "      <td>NaN</td>\n",
       "      <td>NaN</td>\n",
       "    </tr>\n",
       "    <tr>\n",
       "      <th>9</th>\n",
       "      <td>NaN</td>\n",
       "      <td>NaN</td>\n",
       "      <td>NaN</td>\n",
       "    </tr>\n",
       "    <tr>\n",
       "      <th>10</th>\n",
       "      <td>NaN</td>\n",
       "      <td>NaN</td>\n",
       "      <td>NaN</td>\n",
       "    </tr>\n",
       "    <tr>\n",
       "      <th>11</th>\n",
       "      <td>NaN</td>\n",
       "      <td>NaN</td>\n",
       "      <td>NaN</td>\n",
       "    </tr>\n",
       "  </tbody>\n",
       "</table>\n",
       "</div>"
      ],
      "text/plain": [
       "   Check 1 Check 2              s1\n",
       "0      NaN     yes  answer missing\n",
       "1      NaN     NaN  answer missing\n",
       "2      NaN     NaN             NaN\n",
       "3      NaN     NaN             NaN\n",
       "4      NaN     NaN             NaN\n",
       "5      NaN     NaN             NaN\n",
       "6      NaN     NaN             NaN\n",
       "7      NaN     NaN             NaN\n",
       "8      NaN     NaN             NaN\n",
       "9      NaN     NaN             NaN\n",
       "10     NaN     NaN             NaN\n",
       "11     NaN     NaN             NaN"
      ]
     },
     "execution_count": 41,
     "metadata": {},
     "output_type": "execute_result"
    }
   ],
   "source": [
    "error_df = pd.DataFrame(index=range(len(df)), columns=['Check 1', 'Check 2'])\n",
    "error_df.at[0, 's1'] = 'answer missing'\n",
    "error_df.at[1, 's1'] = 'answer missing'\n",
    "error_df.at[0, 'Check 2'] = 'yes'\n",
    "error_df"
   ]
  },
  {
   "cell_type": "code",
   "execution_count": 21,
   "metadata": {},
   "outputs": [],
   "source": [
    "from gspread_dataframe import get_as_dataframe, set_with_dataframe"
   ]
  },
  {
   "cell_type": "code",
   "execution_count": 26,
   "metadata": {},
   "outputs": [],
   "source": [
    "set_with_dataframe(worksheet, error_df, col=17)"
   ]
  },
  {
   "cell_type": "code",
   "execution_count": 46,
   "metadata": {},
   "outputs": [
    {
     "data": {
      "text/plain": [
       "0"
      ]
     },
     "execution_count": 46,
     "metadata": {},
     "output_type": "execute_result"
    }
   ],
   "source": [
    "(error_df[error_df['s1'] == 'answer missing'].index & error_df[error_df['Check 2'] == 'yes'].index)[0]"
   ]
  },
  {
   "cell_type": "code",
   "execution_count": 43,
   "metadata": {},
   "outputs": [
    {
     "data": {
      "text/plain": [
       "Int64Index([0], dtype='int64')"
      ]
     },
     "execution_count": 43,
     "metadata": {},
     "output_type": "execute_result"
    }
   ],
   "source": [
    "error_df[error_df['Check 2'] == 'yes'].index"
   ]
  },
  {
   "cell_type": "code",
   "execution_count": 20,
   "metadata": {},
   "outputs": [],
   "source": [
    "# i = \"https://imgur.com/7KTfjfm\"\n",
    "i = \"https://openstax.org/resources/aef01c7d7904ee664716928aa7b16c58bc6a78e1\"\n",
    "i = \"https://ibb.co/zVgQ37c\"\n",
    "r = requests.get(i)"
   ]
  },
  {
   "cell_type": "code",
   "execution_count": 21,
   "metadata": {},
   "outputs": [
    {
     "ename": "UnidentifiedImageError",
     "evalue": "cannot identify image file <_io.BytesIO object at 0x7fa351dd95e0>",
     "output_type": "error",
     "traceback": [
      "\u001b[0;31m---------------------------------------------------------------------------\u001b[0m",
      "\u001b[0;31mUnidentifiedImageError\u001b[0m                    Traceback (most recent call last)",
      "\u001b[0;32m<ipython-input-21-276348fa608b>\u001b[0m in \u001b[0;36m<module>\u001b[0;34m\u001b[0m\n\u001b[1;32m      2\u001b[0m \u001b[0;32mfrom\u001b[0m \u001b[0mio\u001b[0m \u001b[0;32mimport\u001b[0m \u001b[0mBytesIO\u001b[0m\u001b[0;34m\u001b[0m\u001b[0;34m\u001b[0m\u001b[0m\n\u001b[1;32m      3\u001b[0m \u001b[0;34m\u001b[0m\u001b[0m\n\u001b[0;32m----> 4\u001b[0;31m \u001b[0mImage\u001b[0m\u001b[0;34m.\u001b[0m\u001b[0mopen\u001b[0m\u001b[0;34m(\u001b[0m\u001b[0mBytesIO\u001b[0m\u001b[0;34m(\u001b[0m\u001b[0mr\u001b[0m\u001b[0;34m.\u001b[0m\u001b[0mcontent\u001b[0m\u001b[0;34m)\u001b[0m\u001b[0;34m)\u001b[0m\u001b[0;34m\u001b[0m\u001b[0;34m\u001b[0m\u001b[0m\n\u001b[0m",
      "\u001b[0;32m~/opt/miniconda3/lib/python3.8/site-packages/PIL/Image.py\u001b[0m in \u001b[0;36mopen\u001b[0;34m(fp, mode)\u001b[0m\n\u001b[1;32m   2928\u001b[0m     \u001b[0;32mfor\u001b[0m \u001b[0mmessage\u001b[0m \u001b[0;32min\u001b[0m \u001b[0maccept_warnings\u001b[0m\u001b[0;34m:\u001b[0m\u001b[0;34m\u001b[0m\u001b[0;34m\u001b[0m\u001b[0m\n\u001b[1;32m   2929\u001b[0m         \u001b[0mwarnings\u001b[0m\u001b[0;34m.\u001b[0m\u001b[0mwarn\u001b[0m\u001b[0;34m(\u001b[0m\u001b[0mmessage\u001b[0m\u001b[0;34m)\u001b[0m\u001b[0;34m\u001b[0m\u001b[0;34m\u001b[0m\u001b[0m\n\u001b[0;32m-> 2930\u001b[0;31m     raise UnidentifiedImageError(\n\u001b[0m\u001b[1;32m   2931\u001b[0m         \u001b[0;34m\"cannot identify image file %r\"\u001b[0m \u001b[0;34m%\u001b[0m \u001b[0;34m(\u001b[0m\u001b[0mfilename\u001b[0m \u001b[0;32mif\u001b[0m \u001b[0mfilename\u001b[0m \u001b[0;32melse\u001b[0m \u001b[0mfp\u001b[0m\u001b[0;34m)\u001b[0m\u001b[0;34m\u001b[0m\u001b[0;34m\u001b[0m\u001b[0m\n\u001b[1;32m   2932\u001b[0m     )\n",
      "\u001b[0;31mUnidentifiedImageError\u001b[0m: cannot identify image file <_io.BytesIO object at 0x7fa351dd95e0>"
     ]
    }
   ],
   "source": [
    "from PIL import Image\n",
    "from io import BytesIO\n",
    "\n",
    "Image.open(BytesIO(r.content))"
   ]
  },
  {
   "cell_type": "code",
   "execution_count": 19,
   "metadata": {},
   "outputs": [
    {
     "data": {
      "text/plain": [
       "('local-filename.jpg', <http.client.HTTPMessage at 0x7fa351ddd430>)"
      ]
     },
     "execution_count": 19,
     "metadata": {},
     "output_type": "execute_result"
    }
   ],
   "source": [
    "i = \"https://imgur.com/7KTfjfm\"\n",
    "urllib.request.urlretrieve(i, \"local-filename.jpg\")"
   ]
  },
  {
   "cell_type": "code",
   "execution_count": 1,
   "metadata": {},
   "outputs": [],
   "source": [
    "import pandas as pd\n",
    "import numpy as np\n",
    "import gspread \n",
    "from gspread_dataframe import set_with_dataframe\n",
    "from oauth2client.service_account import ServiceAccountCredentials"
   ]
  },
  {
   "cell_type": "code",
   "execution_count": 3,
   "metadata": {},
   "outputs": [],
   "source": [
    "FEEDBACK_SPREADSHEET = \"1PoPG4i_gQy20YdeyYpD5SvjfohbuUwSyLCcNOKDBQ20\"\n",
    "SHEET_NAME = \"Selenium Error Log\""
   ]
  },
  {
   "cell_type": "code",
   "execution_count": 4,
   "metadata": {},
   "outputs": [],
   "source": [
    "scope = ['https://spreadsheets.google.com/feeds'] \n",
    "credentials = ServiceAccountCredentials.from_json_keyfile_name('../sunlit-shelter-282118-8847831293f8.json', scope) \n",
    "gc = gspread.authorize(credentials)\n",
    "book = gc.open_by_key(FEEDBACK_SPREADSHEET)\n",
    "worksheet = book.worksheet(SHEET_NAME) \n",
    "table = worksheet.get_all_values()\n",
    "original_df = pd.DataFrame(table[1:], columns=table[0])"
   ]
  },
  {
   "cell_type": "code",
   "execution_count": 10,
   "metadata": {},
   "outputs": [
    {
     "data": {
      "text/html": [
       "<div>\n",
       "<style scoped>\n",
       "    .dataframe tbody tr th:only-of-type {\n",
       "        vertical-align: middle;\n",
       "    }\n",
       "\n",
       "    .dataframe tbody tr th {\n",
       "        vertical-align: top;\n",
       "    }\n",
       "\n",
       "    .dataframe thead th {\n",
       "        text-align: right;\n",
       "    }\n",
       "</style>\n",
       "<table border=\"1\" class=\"dataframe\">\n",
       "  <thead>\n",
       "    <tr style=\"text-align: right;\">\n",
       "      <th></th>\n",
       "      <th>Error Log</th>\n",
       "      <th>Issue Type</th>\n",
       "      <th>status</th>\n",
       "      <th>Comment</th>\n",
       "    </tr>\n",
       "    <tr>\n",
       "      <th>problem_name</th>\n",
       "      <th></th>\n",
       "      <th></th>\n",
       "      <th></th>\n",
       "      <th></th>\n",
       "    </tr>\n",
       "  </thead>\n",
       "  <tbody>\n",
       "    <tr>\n",
       "      <th>poly31</th>\n",
       "      <td>poly31: Invalid answer for step 1: $$a^4+\\left...</td>\n",
       "      <td>frontend</td>\n",
       "      <td>open</td>\n",
       "      <td>Error in console: index.esm.js:964 GET https:/...</td>\n",
       "    </tr>\n",
       "    <tr>\n",
       "      <th>rotation18</th>\n",
       "      <td>rotation18: Invalid answer for step 2: (21x'**...</td>\n",
       "      <td>script</td>\n",
       "      <td>resolved</td>\n",
       "      <td></td>\n",
       "    </tr>\n",
       "    <tr>\n",
       "      <th>rotation16</th>\n",
       "      <td>rotation16: Invalid answer for step 1: (3+2sqr...</td>\n",
       "      <td>script</td>\n",
       "      <td>resolved</td>\n",
       "      <td></td>\n",
       "    </tr>\n",
       "    <tr>\n",
       "      <th>Exception on problem matrices14</th>\n",
       "      <td>Exception on problem matrices14: list index ou...</td>\n",
       "      <td>content</td>\n",
       "      <td>open</td>\n",
       "      <td>Matrix answer is not well formatted</td>\n",
       "    </tr>\n",
       "    <tr>\n",
       "      <th>partfrac11</th>\n",
       "      <td>partfrac11: Invalid answer for step 1: (1/(x-2...</td>\n",
       "      <td>content</td>\n",
       "      <td>open</td>\n",
       "      <td></td>\n",
       "    </tr>\n",
       "    <tr>\n",
       "      <th>...</th>\n",
       "      <td>...</td>\n",
       "      <td>...</td>\n",
       "      <td>...</td>\n",
       "      <td>...</td>\n",
       "    </tr>\n",
       "    <tr>\n",
       "      <th>logarithmic10</th>\n",
       "      <td>logarithmic10: Invalid answer for step 1: $$\\f...</td>\n",
       "      <td>script</td>\n",
       "      <td>resolved</td>\n",
       "      <td></td>\n",
       "    </tr>\n",
       "    <tr>\n",
       "      <th>SolveMixture1</th>\n",
       "      <td>SolveMixture1: Invalid answer for step 1: 42,136</td>\n",
       "      <td>content</td>\n",
       "      <td>open</td>\n",
       "      <td></td>\n",
       "    </tr>\n",
       "    <tr>\n",
       "      <th>expolog11</th>\n",
       "      <td>expolog11: Invalid answer for step 1: @{ans}</td>\n",
       "      <td>script</td>\n",
       "      <td>open</td>\n",
       "      <td></td>\n",
       "    </tr>\n",
       "    <tr>\n",
       "      <th>MoApp3</th>\n",
       "      <td>MoApp3: step 5 submit does not exist.</td>\n",
       "      <td>UNKNOWN</td>\n",
       "      <td>open</td>\n",
       "      <td></td>\n",
       "    </tr>\n",
       "    <tr>\n",
       "      <th>clt2</th>\n",
       "      <td>clt2: Invalid answer for step 1: 0.62%</td>\n",
       "      <td>frontend</td>\n",
       "      <td>open</td>\n",
       "      <td>checkAnswer.js:92 error TypeError: Cannot read...</td>\n",
       "    </tr>\n",
       "  </tbody>\n",
       "</table>\n",
       "<p>73 rows × 4 columns</p>\n",
       "</div>"
      ],
      "text/plain": [
       "                                                                         Error Log  \\\n",
       "problem_name                                                                         \n",
       "poly31                           poly31: Invalid answer for step 1: $$a^4+\\left...   \n",
       "rotation18                       rotation18: Invalid answer for step 2: (21x'**...   \n",
       "rotation16                       rotation16: Invalid answer for step 1: (3+2sqr...   \n",
       "Exception on problem matrices14  Exception on problem matrices14: list index ou...   \n",
       "partfrac11                       partfrac11: Invalid answer for step 1: (1/(x-2...   \n",
       "...                                                                            ...   \n",
       "logarithmic10                    logarithmic10: Invalid answer for step 1: $$\\f...   \n",
       "SolveMixture1                     SolveMixture1: Invalid answer for step 1: 42,136   \n",
       "expolog11                             expolog11: Invalid answer for step 1: @{ans}   \n",
       "MoApp3                                       MoApp3: step 5 submit does not exist.   \n",
       "clt2                                        clt2: Invalid answer for step 1: 0.62%   \n",
       "\n",
       "                                Issue Type    status  \\\n",
       "problem_name                                           \n",
       "poly31                            frontend      open   \n",
       "rotation18                          script  resolved   \n",
       "rotation16                          script  resolved   \n",
       "Exception on problem matrices14    content      open   \n",
       "partfrac11                         content      open   \n",
       "...                                    ...       ...   \n",
       "logarithmic10                       script  resolved   \n",
       "SolveMixture1                      content      open   \n",
       "expolog11                           script      open   \n",
       "MoApp3                             UNKNOWN      open   \n",
       "clt2                              frontend      open   \n",
       "\n",
       "                                                                           Comment  \n",
       "problem_name                                                                        \n",
       "poly31                           Error in console: index.esm.js:964 GET https:/...  \n",
       "rotation18                                                                          \n",
       "rotation16                                                                          \n",
       "Exception on problem matrices14                Matrix answer is not well formatted  \n",
       "partfrac11                                                                          \n",
       "...                                                                            ...  \n",
       "logarithmic10                                                                       \n",
       "SolveMixture1                                                                       \n",
       "expolog11                                                                           \n",
       "MoApp3                                                                              \n",
       "clt2                             checkAnswer.js:92 error TypeError: Cannot read...  \n",
       "\n",
       "[73 rows x 4 columns]"
      ]
     },
     "execution_count": 10,
     "metadata": {},
     "output_type": "execute_result"
    }
   ],
   "source": [
    "original_df[\"problem_name\"] = original_df[\"Error Log\"].str.split(\": \").str[0]\n",
    "original_df = original_df.set_index(\"problem_name\")\n",
    "original_df"
   ]
  },
  {
   "cell_type": "code",
   "execution_count": 4,
   "metadata": {},
   "outputs": [
    {
     "data": {
      "text/html": [
       "<div>\n",
       "<style scoped>\n",
       "    .dataframe tbody tr th:only-of-type {\n",
       "        vertical-align: middle;\n",
       "    }\n",
       "\n",
       "    .dataframe tbody tr th {\n",
       "        vertical-align: top;\n",
       "    }\n",
       "\n",
       "    .dataframe thead th {\n",
       "        text-align: right;\n",
       "    }\n",
       "</style>\n",
       "<table border=\"1\" class=\"dataframe\">\n",
       "  <thead>\n",
       "    <tr style=\"text-align: right;\">\n",
       "      <th></th>\n",
       "      <th>B</th>\n",
       "      <th>C</th>\n",
       "    </tr>\n",
       "    <tr>\n",
       "      <th>A</th>\n",
       "      <th></th>\n",
       "      <th></th>\n",
       "    </tr>\n",
       "  </thead>\n",
       "  <tbody>\n",
       "    <tr>\n",
       "      <th>abc</th>\n",
       "      <td>bcd</td>\n",
       "      <td>cde</td>\n",
       "    </tr>\n",
       "    <tr>\n",
       "      <th>def</th>\n",
       "      <td>efg</td>\n",
       "      <td>ghi</td>\n",
       "    </tr>\n",
       "  </tbody>\n",
       "</table>\n",
       "</div>"
      ],
      "text/plain": [
       "       B    C\n",
       "A            \n",
       "abc  bcd  cde\n",
       "def  efg  ghi"
      ]
     },
     "execution_count": 4,
     "metadata": {},
     "output_type": "execute_result"
    }
   ],
   "source": [
    "df1 = pd.DataFrame([[\"abc\", \"bcd\", \"cde\"], \n",
    "                    [\"def\", 'efg', 'ghi']], \n",
    "                  columns = ['A', 'B', 'C'])\n",
    "df1 = df1.set_index('A')\n",
    "df1"
   ]
  },
  {
   "cell_type": "code",
   "execution_count": 5,
   "metadata": {},
   "outputs": [
    {
     "data": {
      "text/html": [
       "<div>\n",
       "<style scoped>\n",
       "    .dataframe tbody tr th:only-of-type {\n",
       "        vertical-align: middle;\n",
       "    }\n",
       "\n",
       "    .dataframe tbody tr th {\n",
       "        vertical-align: top;\n",
       "    }\n",
       "\n",
       "    .dataframe thead th {\n",
       "        text-align: right;\n",
       "    }\n",
       "</style>\n",
       "<table border=\"1\" class=\"dataframe\">\n",
       "  <thead>\n",
       "    <tr style=\"text-align: right;\">\n",
       "      <th></th>\n",
       "      <th>B</th>\n",
       "      <th>C</th>\n",
       "    </tr>\n",
       "    <tr>\n",
       "      <th>A</th>\n",
       "      <th></th>\n",
       "      <th></th>\n",
       "    </tr>\n",
       "  </thead>\n",
       "  <tbody>\n",
       "    <tr>\n",
       "      <th>hie</th>\n",
       "      <td>qwe</td>\n",
       "      <td>ads</td>\n",
       "    </tr>\n",
       "    <tr>\n",
       "      <th>def</th>\n",
       "      <td>efg</td>\n",
       "      <td>ghi</td>\n",
       "    </tr>\n",
       "  </tbody>\n",
       "</table>\n",
       "</div>"
      ],
      "text/plain": [
       "       B    C\n",
       "A            \n",
       "hie  qwe  ads\n",
       "def  efg  ghi"
      ]
     },
     "execution_count": 5,
     "metadata": {},
     "output_type": "execute_result"
    }
   ],
   "source": [
    "df2 = pd.DataFrame([[\"hie\", \"qwe\", \"ads\"], \n",
    "                    [\"def\", 'efg', 'ghi']], \n",
    "                  columns = ['A', 'B', 'C'])\n",
    "df2 = df2.set_index('A')\n",
    "df2"
   ]
  },
  {
   "cell_type": "code",
   "execution_count": 10,
   "metadata": {},
   "outputs": [
    {
     "data": {
      "text/html": [
       "<div>\n",
       "<style scoped>\n",
       "    .dataframe tbody tr th:only-of-type {\n",
       "        vertical-align: middle;\n",
       "    }\n",
       "\n",
       "    .dataframe tbody tr th {\n",
       "        vertical-align: top;\n",
       "    }\n",
       "\n",
       "    .dataframe thead th {\n",
       "        text-align: right;\n",
       "    }\n",
       "</style>\n",
       "<table border=\"1\" class=\"dataframe\">\n",
       "  <thead>\n",
       "    <tr style=\"text-align: right;\">\n",
       "      <th></th>\n",
       "      <th>B</th>\n",
       "      <th>C</th>\n",
       "    </tr>\n",
       "    <tr>\n",
       "      <th>A</th>\n",
       "      <th></th>\n",
       "      <th></th>\n",
       "    </tr>\n",
       "  </thead>\n",
       "  <tbody>\n",
       "    <tr>\n",
       "      <th>abc</th>\n",
       "      <td>bcd</td>\n",
       "      <td>cde</td>\n",
       "    </tr>\n",
       "    <tr>\n",
       "      <th>def</th>\n",
       "      <td>efg</td>\n",
       "      <td>ghi</td>\n",
       "    </tr>\n",
       "    <tr>\n",
       "      <th>hie</th>\n",
       "      <td>qwe</td>\n",
       "      <td>ads</td>\n",
       "    </tr>\n",
       "  </tbody>\n",
       "</table>\n",
       "</div>"
      ],
      "text/plain": [
       "       B    C\n",
       "A            \n",
       "abc  bcd  cde\n",
       "def  efg  ghi\n",
       "hie  qwe  ads"
      ]
     },
     "execution_count": 10,
     "metadata": {},
     "output_type": "execute_result"
    }
   ],
   "source": [
    "df1.append(df2.loc[df2.index.difference(df1.index)])"
   ]
  },
  {
   "cell_type": "code",
   "execution_count": 19,
   "metadata": {},
   "outputs": [
    {
     "data": {
      "text/html": [
       "<div>\n",
       "<style scoped>\n",
       "    .dataframe tbody tr th:only-of-type {\n",
       "        vertical-align: middle;\n",
       "    }\n",
       "\n",
       "    .dataframe tbody tr th {\n",
       "        vertical-align: top;\n",
       "    }\n",
       "\n",
       "    .dataframe thead th {\n",
       "        text-align: right;\n",
       "    }\n",
       "</style>\n",
       "<table border=\"1\" class=\"dataframe\">\n",
       "  <thead>\n",
       "    <tr style=\"text-align: right;\">\n",
       "      <th></th>\n",
       "      <th>A</th>\n",
       "      <th>B</th>\n",
       "      <th>C</th>\n",
       "    </tr>\n",
       "  </thead>\n",
       "  <tbody>\n",
       "    <tr>\n",
       "      <th>0</th>\n",
       "      <td>abc</td>\n",
       "      <td>bcd</td>\n",
       "      <td>cde</td>\n",
       "    </tr>\n",
       "    <tr>\n",
       "      <th>1</th>\n",
       "      <td>def</td>\n",
       "      <td>efg</td>\n",
       "      <td>ghi</td>\n",
       "    </tr>\n",
       "  </tbody>\n",
       "</table>\n",
       "</div>"
      ],
      "text/plain": [
       "     A    B    C\n",
       "0  abc  bcd  cde\n",
       "1  def  efg  ghi"
      ]
     },
     "execution_count": 19,
     "metadata": {},
     "output_type": "execute_result"
    }
   ],
   "source": [
    "df1 = pd.DataFrame([[\"abc\", \"bcd\", \"cde\"], \n",
    "                    [\"def\", 'efg', 'ghi']], \n",
    "                  columns = ['A', 'B', 'C'])\n",
    "df1"
   ]
  },
  {
   "cell_type": "code",
   "execution_count": 20,
   "metadata": {},
   "outputs": [
    {
     "data": {
      "text/html": [
       "<div>\n",
       "<style scoped>\n",
       "    .dataframe tbody tr th:only-of-type {\n",
       "        vertical-align: middle;\n",
       "    }\n",
       "\n",
       "    .dataframe tbody tr th {\n",
       "        vertical-align: top;\n",
       "    }\n",
       "\n",
       "    .dataframe thead th {\n",
       "        text-align: right;\n",
       "    }\n",
       "</style>\n",
       "<table border=\"1\" class=\"dataframe\">\n",
       "  <thead>\n",
       "    <tr style=\"text-align: right;\">\n",
       "      <th></th>\n",
       "      <th>A</th>\n",
       "      <th>B</th>\n",
       "      <th>C</th>\n",
       "    </tr>\n",
       "  </thead>\n",
       "  <tbody>\n",
       "    <tr>\n",
       "      <th>0</th>\n",
       "      <td>abc</td>\n",
       "      <td>bcd</td>\n",
       "      <td>cde</td>\n",
       "    </tr>\n",
       "    <tr>\n",
       "      <th>1</th>\n",
       "      <td>def</td>\n",
       "      <td>efg</td>\n",
       "      <td>ghi</td>\n",
       "    </tr>\n",
       "    <tr>\n",
       "      <th>2</th>\n",
       "      <td>nice</td>\n",
       "      <td></td>\n",
       "      <td>q89q</td>\n",
       "    </tr>\n",
       "  </tbody>\n",
       "</table>\n",
       "</div>"
      ],
      "text/plain": [
       "      A    B     C\n",
       "0   abc  bcd   cde\n",
       "1   def  efg   ghi\n",
       "2  nice       q89q"
      ]
     },
     "execution_count": 20,
     "metadata": {},
     "output_type": "execute_result"
    }
   ],
   "source": [
    "df1.append({\"A\": \"nice\", \"B\": \"\", \"C\": \"q89q\"}, ignore_index=True)"
   ]
  },
  {
   "cell_type": "code",
   "execution_count": null,
   "metadata": {},
   "outputs": [],
   "source": []
  }
 ],
 "metadata": {
  "kernelspec": {
   "display_name": "Python 3",
   "language": "python",
   "name": "python3"
  },
  "language_info": {
   "codemirror_mode": {
    "name": "ipython",
    "version": 3
   },
   "file_extension": ".py",
   "mimetype": "text/x-python",
   "name": "python",
   "nbconvert_exporter": "python",
   "pygments_lexer": "ipython3",
   "version": "3.8.3"
  }
 },
 "nbformat": 4,
 "nbformat_minor": 4
}
